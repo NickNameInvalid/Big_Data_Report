{
 "cells": [
  {
   "cell_type": "markdown",
   "id": "7a6947fe",
   "metadata": {},
   "source": [
    "## Since we may map values from previous cleaned data "
   ]
  },
  {
   "cell_type": "code",
   "execution_count": 1,
   "id": "5dffb8b6",
   "metadata": {},
   "outputs": [],
   "source": [
    "from openclean.data.load import dataset\n",
    "from openclean.pipeline import stream\n",
    "import pandas as pd\n",
    "\n",
    "data_dir = '../project_data/'\n",
    "file_name = 'data-cityofnewyork-us.k397-673e.csv'\n",
    "\n",
    "COLUMNS = [\n",
    "    \"Fiscal Year\",\n",
    "    \"Payroll Number\",\n",
    "    \"Agency Name\",\n",
    "    \"Last Name\",\n",
    "    \"First Name\",\n",
    "    \"Mid Init\",\n",
    "    \"Agency Start Date\",\n",
    "    \"Work Location Borough\",\n",
    "    \"Title Description\",\n",
    "    \"Leave Status as of June 30\",\n",
    "    \"Base Salary\",\n",
    "    \"Pay Basis\",\n",
    "    \"Regular Hours\",\n",
    "    \"Regular Gross Paid\",\n",
    "    \"OT Hours\",\n",
    "    \"Total OT Paid\",\n",
    "    \"Total Other Pay\"\n",
    "]"
   ]
  },
  {
   "cell_type": "code",
   "execution_count": 3,
   "id": "9142fcd4",
   "metadata": {},
   "outputs": [],
   "source": [
    "datafile = data_dir + file_name\n",
    "ds_full = stream(datafile, encoding='utf-8')\n",
    "df = ds_full.to_df()"
   ]
  },
  {
   "cell_type": "code",
   "execution_count": 6,
   "id": "3cde3e96",
   "metadata": {},
   "outputs": [
    {
     "name": "stdout",
     "output_type": "stream",
     "text": [
      "MANHATTAN        2394979\n",
      "                  506226\n",
      "QUEENS            379695\n",
      "BROOKLYN          323565\n",
      "BRONX             177881\n",
      "OTHER              83688\n",
      "RICHMOND           46156\n",
      "WESTCHESTER         3417\n",
      "ULSTER              1953\n",
      "Manhattan           1622\n",
      "Bronx                935\n",
      "SULLIVAN             822\n",
      "Queens               660\n",
      "DELAWARE             551\n",
      "NASSAU               245\n",
      "PUTNAM               243\n",
      "SCHOHARIE            175\n",
      "DUTCHESS             140\n",
      "Richmond             112\n",
      "ALBANY                95\n",
      "GREENE                61\n",
      "WASHINGTON DC         47\n",
      "ORANGE                22\n",
      "Name: Work Location Borough, dtype: int64\n"
     ]
    }
   ],
   "source": [
    "column = \"Work Location Borough\"\n",
    "work_loc = df[column].value_counts()\n",
    "print(work_loc)"
   ]
  },
  {
   "cell_type": "code",
   "execution_count": 7,
   "id": "4d96c9bb",
   "metadata": {},
   "outputs": [],
   "source": [
    "from openclean.function.value.null import is_empty\n",
    "from openclean.operator.transform.update import update\n",
    "df = update(df, columns=column, func=str.upper)\n",
    "df = update(df, columns=column, func=lambda x: 'OTHER' if is_empty(x) else x)"
   ]
  },
  {
   "cell_type": "code",
   "execution_count": 9,
   "id": "46b2ee03",
   "metadata": {},
   "outputs": [
    {
     "name": "stdout",
     "output_type": "stream",
     "text": [
      "MANHATTAN        2396601\n",
      "OTHER             589914\n",
      "QUEENS            380355\n",
      "BROOKLYN          323565\n",
      "BRONX             178816\n",
      "RICHMOND           46268\n",
      "WESTCHESTER         3417\n",
      "ULSTER              1953\n",
      "SULLIVAN             822\n",
      "DELAWARE             551\n",
      "NASSAU               245\n",
      "PUTNAM               243\n",
      "SCHOHARIE            175\n",
      "DUTCHESS             140\n",
      "ALBANY                95\n",
      "GREENE                61\n",
      "WASHINGTON DC         47\n",
      "ORANGE                22\n",
      "Name: Work Location Borough, dtype: int64\n"
     ]
    }
   ],
   "source": [
    "print(df[column].value_counts())"
   ]
  },
  {
   "cell_type": "code",
   "execution_count": 10,
   "id": "06435068",
   "metadata": {},
   "outputs": [
    {
     "name": "stdout",
     "output_type": "stream",
     "text": [
      "0 clusters of size 5 or greater\n"
     ]
    }
   ],
   "source": [
    "from openclean.cluster.knn import knn_clusters\n",
    "from openclean.function.similarity.base import SimilarityConstraint\n",
    "from openclean.function.similarity.text import LevenshteinDistance\n",
    "from openclean.function.value.threshold import GreaterThan\n",
    "\n",
    "minsize = 5\n",
    "values = ds_full.select(column).distinct()\n",
    "clusters = knn_clusters(\n",
    "    values=values,\n",
    "    sim=SimilarityConstraint(func=LevenshteinDistance(), pred=GreaterThan(0.9)),\n",
    "    minsize=minsize\n",
    ")\n",
    "\n",
    "print('{} clusters of size {} or greater'.format(len(clusters), minsize))"
   ]
  },
  {
   "cell_type": "code",
   "execution_count": null,
   "id": "22cdc220",
   "metadata": {},
   "outputs": [],
   "source": []
  }
 ],
 "metadata": {
  "kernelspec": {
   "display_name": "Python 3 (ipykernel)",
   "language": "python",
   "name": "python3"
  },
  "language_info": {
   "codemirror_mode": {
    "name": "ipython",
    "version": 3
   },
   "file_extension": ".py",
   "mimetype": "text/x-python",
   "name": "python",
   "nbconvert_exporter": "python",
   "pygments_lexer": "ipython3",
   "version": "3.8.12"
  }
 },
 "nbformat": 4,
 "nbformat_minor": 5
}

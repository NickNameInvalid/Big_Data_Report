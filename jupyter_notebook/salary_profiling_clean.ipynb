{
 "cells": [
  {
   "cell_type": "markdown",
   "source": [
    "## Load Datasets"
   ],
   "metadata": {}
  },
  {
   "cell_type": "code",
   "execution_count": 4,
   "source": [
    "import pandas as pd\r\n",
    "import numpy as np\r\n",
    "import os\r\n",
    "\r\n",
    "path = '..\\\\data'\r\n",
    "filenames = [\r\n",
    "    'data-cityofnewyork-us.8eq5-dtjb.csv',\r\n",
    "    'data-cityofnewyork-us.gt6r-wh7c.csv',\r\n",
    "    'data-cityofnewyork-us.m6ad-jy3s.csv',\r\n",
    "    'data-cityofnewyork-us.emuv-tx7t.csv',\r\n",
    "]\r\n",
    "columns = [\r\n",
    "    'Salaries',\r\n",
    "    'Salaries',\r\n",
    "    'Salaries',\r\n",
    "    'Salaries',\r\n",
    "]\r\n",
    "# pandas Series of Salaries columns\r\n",
    "salaries = []\r\n",
    "for filename, col in zip(filenames, columns):\r\n",
    "    df = pd.read_csv(os.path.join(path, filename), usecols=[col])\r\n",
    "    salaries.append(df[col])"
   ],
   "outputs": [],
   "metadata": {}
  },
  {
   "cell_type": "markdown",
   "source": [
    "## Salary\r\n",
    "\r\n",
    "### Column Introduction\r\n",
    "\r\n",
    "This kind of columns are related to \"Salary\" or \"Paid\", usually many datesets will have more than one related columns. Depending on the definition of \"Salary\" or \"Paid\" for each column, their values may be very different. Because of the variety, defining which value is correct or wrong can be difficult or somewhat ambiguous.In this project, we would mainly focus on the distribution of values.\r\n",
    "\r\n",
    "### Our original strategy\r\n",
    "\r\n",
    "In the original dataset, related columns are \"Base Salary\", \"Regular Gross Paid\" and \"Total OT Paid\". The raw data in these columns is already relatively clean, so data profiling and data cleaning is rather simple. For example, each row in the raw data has a definite value and there are no NaN values; and its data format is either a standard integer or floating point number, there's no other special characters. \r\n",
    "\r\n",
    "Since the data format of the original dataset doesn't have any problem, the data profiling for the original data set has following two steps:\r\n",
    "- first, count the minimum, maximum, mean and median.\r\n",
    "- Then, draw the histogram of frequency distribution of each column. These statistics as well as the visualization images can help us to better identify outliers.\r\n",
    "\r\n",
    "Once we got the outliers from the data profiling, we performed the data cleaning strategy by deleting those abnormal rows. Among these, negative values were the most obvious outliers, as it is clearly impossible for a person to have a negative salary."
   ],
   "metadata": {}
  },
  {
   "cell_type": "markdown",
   "source": [
    "### Result of effectiveness and problems in new datasets\r\n",
    "\r\n",
    "For other types of data, the above method may find some exceptionally small or large outliers. However, there is one special feature about the data of salaries. That is, salaries vary drastically from person to person, because not only thers's wide gap between the rich and the poor, but also the ways in which they are paid can be so differnt that many of the so-called \"salary\" values actually make little sense. In fact, even considering negative values as outliers is debatable. Some sources suggest that negative values might be used for correcting previous payroll data in some cases.\r\n",
    "\r\n",
    "Overall, measuring the effectiveness of our data cleaning strategy for salary columns turns out to be tricky, so we decided to spend more efforts on profiling rather than cleaning.\r\n",
    "\r\n",
    "We inspected new datasets \"8eq5-dtjb.csv\", \"emuv-tx7t.csv\", \"gt6r-wh7c.csv\" ,\"m6ad-jy3s.csv\" and noticed that salary column of dataset \"emuv-tx7t.csv\" contains invalid string which can not be directly converted to integers. What's more, there're also many NaN values, which are not appeared in original dataset.\r\n",
    "\r\n",
    "### Apply our refined strategy\r\n",
    "\r\n",
    "Before cleaning the invalid string from dataset \"emuv-tx7t.csv\", we first applied original strategy on other datasets which have the valid format. However, **Figure 1** histogram shows that there's no negative values in these new datasets, and since we didn't remove NaN values, the original strategy didn't actially clean anything."
   ],
   "metadata": {}
  },
  {
   "cell_type": "code",
   "execution_count": 5,
   "source": [
    "%matplotlib inline\r\n",
    "import matplotlib.pyplot as plt\r\n",
    "\r\n",
    "def histogram(ax, x, name, color, b_size, y_log=True):\r\n",
    "    ax.set_xlabel(f'values: {name}')\r\n",
    "    if y_log: \r\n",
    "        ax.set_yscale('log', base = 10)\r\n",
    "        ax.set_ylabel('count (log)')\r\n",
    "    else:\r\n",
    "        ax.set_ylabel('count')\r\n",
    "    _ = ax.hist(x, bins=b_size, color=color)\r\n",
    "\r\n",
    "fig, ax = plt.subplots(1, 1, figsize=(7,5))\r\n",
    "x = pd.concat(salaries[:3])\r\n",
    "histogram(ax, x, 'Salaries', 'green', 100, False)\r\n",
    "# Figure 1: histogram except \"emuv-tx7t.csv\""
   ],
   "outputs": [
    {
     "output_type": "display_data",
     "data": {
      "image/png": "[encoded data removed]",
      "text/plain": [
       "<Figure size 504x360 with 1 Axes>"
      ]
     },
     "metadata": {
      "needs_background": "light"
     }
    }
   ],
   "metadata": {}
  },
  {
   "cell_type": "markdown",
   "source": [
    "Here we noticed that some people earn more than 1 million (dollars?). Although these values are surprisingly large, we cannot simply consider them as outliers, because such high salaries are entirely possible.\r\n",
    "\r\n",
    "In dataset \"emuv-tx7t.csv\", there're strings like \" 64,575 \" or \" -   \", with unnecessary spaces, commas and dash character which represents NaN. So our refined strategy will properly convert them into numbers.\r\n",
    "- Remove spaces and commas.\r\n",
    "- Replace dash character with NaN.\r\n",
    "- As for the NaN values, we decided to keep them since standard IEEE 754 float format supports NaN."
   ],
   "metadata": {}
  },
  {
   "cell_type": "code",
   "execution_count": 6,
   "source": [
    "malformed_col = salaries[3]\r\n",
    "malformed_col = malformed_col.str.replace(' ', '')\r\n",
    "malformed_col = malformed_col.str.replace(',', '')\r\n",
    "malformed_col = malformed_col.replace('-', np.nan)\r\n",
    "salaries[3] = malformed_col.astype('float')"
   ],
   "outputs": [],
   "metadata": {}
  },
  {
   "cell_type": "code",
   "execution_count": 7,
   "source": [
    "fig, ax = plt.subplots(1, 1, figsize=(7,5))\r\n",
    "x = pd.concat(salaries)\r\n",
    "histogram(ax, x, 'Salaries', 'darkgreen', 100, False)\r\n",
    "# Figure 2: histogram for all datasets"
   ],
   "outputs": [
    {
     "output_type": "display_data",
     "data": {
      "image/png": "[encoded data removed]",
      "text/plain": [
       "<Figure size 504x360 with 1 Axes>"
      ]
     },
     "metadata": {
      "needs_background": "light"
     }
    }
   ],
   "metadata": {}
  }
 ],
 "metadata": {
  "kernelspec": {
   "name": "python3",
   "display_name": "Python 3.8.3 64-bit ('ml': virtualenv)"
  },
  "language_info": {
   "codemirror_mode": {
    "name": "ipython",
    "version": 3
   },
   "file_extension": ".py",
   "mimetype": "text/x-python",
   "name": "python",
   "nbconvert_exporter": "python",
   "pygments_lexer": "ipython3",
   "version": "3.8.3"
  },
  "interpreter": {
   "hash": "633d90d9500ee2a8ed8f1a214594d0bd855d82bb29c73445dfe9e7ea951fcc4d"
  }
 },
 "nbformat": 4,
 "nbformat_minor": 5
}
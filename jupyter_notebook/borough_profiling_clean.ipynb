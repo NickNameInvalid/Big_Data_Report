{
 "cells": [
  {
   "cell_type": "code",
   "execution_count": 1,
   "id": "e50277c2",
   "metadata": {},
   "outputs": [],
   "source": [
    "from openclean.data.load import dataset\n",
    "import pandas as pd\n",
    "\n",
    "data_list = [\n",
    "    'data-cityofnewyork-us.8eq5-dtjb.csv', \n",
    "    'data-cityofnewyork-us.emuv-tx7t.csv', \n",
    "    'data-cityofnewyork-us.gt6r-wh7c.csv', \n",
    "    'data-cityofnewyork-us.un8d-rbed.csv', \n",
    "    'data-cityofnewyork-us.m6ad-jy3s.csv', \n",
    "    'data-cityofnewyork-us.wye7-nyek.csv', \n",
    "    'data-cityofnewyork-us.bty7-2jhb.csv', \n",
    "    'data-cityofnewyork-us.xrwg-eczf.csv', \n",
    "    'data-cityofnewyork-us.3rfa-3xsf.csv', \n",
    "    'data-cityofnewyork-us.aiww-p3af.csv', \n",
    "    'data-cityofnewyork-us.cwy2-px8b.csv', \n",
    "    'data-cityofnewyork-us.hy4q-igkk.csv'\n",
    "]\n",
    "\n",
    "\n",
    "# Park Borough also included in igkk & p3af\n",
    "\n",
    "data_column = [\n",
    "    'Borough', \n",
    "    'Borough', \n",
    "    'Borough', \n",
    "    'Borough', \n",
    "    'Borough', \n",
    "    'Borough', \n",
    "    'BOROUGH', \n",
    "    'Borough', \n",
    "    'Borough', \n",
    "    'Borough', \n",
    "    'Borough', \n",
    "    'Borough'\n",
    "]"
   ]
  },
  {
   "cell_type": "code",
   "execution_count": null,
   "id": "e5d4f432",
   "metadata": {},
   "outputs": [],
   "source": [
    "# our original strategy:\n",
    "# 1. padding missing value with value 'UNKNOWN'\n",
    "# 2. using uppercase for columns which could be used as reference data, such as BOROUGH\n",
    "# 3. using knn cluster to check the spelling error\n",
    "\n",
    "def calc_effectiveness(problem_rows, cleaned_rows):\n",
    "    intersected_num = len(pd.merge(problem_rows, cleaned_rows, how='inner'));\n",
    "    precision = intersected_num / len(cleaned_rows) * 1.0\n",
    "    recall = intersected_num / len(problem_rows) * 1.0\n",
    "    return precision, recall\n",
    "\n",
    "def profiling_data(datafile, column):\n",
    "    ds_full = dataset(datafile)\n",
    "    "
   ]
  }
 ],
 "metadata": {
  "kernelspec": {
   "display_name": "Python 3 (ipykernel)",
   "language": "python",
   "name": "python3"
  },
  "language_info": {
   "codemirror_mode": {
    "name": "ipython",
    "version": 3
   },
   "file_extension": ".py",
   "mimetype": "text/x-python",
   "name": "python",
   "nbconvert_exporter": "python",
   "pygments_lexer": "ipython3",
   "version": "3.8.12"
  }
 },
 "nbformat": 4,
 "nbformat_minor": 5
}

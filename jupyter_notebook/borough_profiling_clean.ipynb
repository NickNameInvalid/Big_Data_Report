{
 "cells": [
  {
   "cell_type": "code",
   "execution_count": 193,
   "id": "e50277c2",
   "metadata": {},
   "outputs": [],
   "source": [
    "from openclean.data.load import dataset\n",
    "from openclean.pipeline import stream\n",
    "import pandas as pd\n",
    "\n",
    "pd.set_option('display.max_rows', None)\n",
    "\n",
    "data_dir = '../project_data/'\n",
    "\n",
    "data_list = [\n",
    "    'data-cityofnewyork-us.8eq5-dtjb.csv', \n",
    "    'data-cityofnewyork-us.emuv-tx7t.csv', \n",
    "    'data-cityofnewyork-us.gt6r-wh7c.csv', \n",
    "    'data-cityofnewyork-us.un8d-rbed.csv', \n",
    "    'data-cityofnewyork-us.m6ad-jy3s.csv', \n",
    "    'data-cityofnewyork-us.wye7-nyek.csv', \n",
    "    'data-cityofnewyork-us.bty7-2jhb.csv', \n",
    "    'data-cityofnewyork-us.xrwg-eczf.csv', \n",
    "    'data-cityofnewyork-us.3rfa-3xsf.csv', \n",
    "    'data-cityofnewyork-us.aiww-p3af.csv', \n",
    "    'data-cityofnewyork-us.cwy2-px8b.csv', \n",
    "    'data-cityofnewyork-us.hy4q-igkk.csv'\n",
    "]\n",
    "\n",
    "\n",
    "# Park Borough also included in igkk & p3af\n",
    "\n",
    "data_column = [\n",
    "    'Borough', \n",
    "    'Borough', \n",
    "    'Borough', \n",
    "    'Borough', \n",
    "    'Borough', \n",
    "    'Borough', \n",
    "    'BOROUGH', \n",
    "    'Borough', \n",
    "    'Borough', \n",
    "    'Borough', \n",
    "    'Borough', \n",
    "    'Borough'\n",
    "]"
   ]
  },
  {
   "cell_type": "code",
   "execution_count": 271,
   "id": "13a500a2",
   "metadata": {},
   "outputs": [],
   "source": [
    "# our original strategy:\n",
    "# 1. padding missing value with value 'UNKNOWN'\n",
    "# 2. using uppercase for columns which could be used as reference data, such as BOROUGH\n",
    "# 3. using knn cluster to check the spelling error\n",
    "from openclean.cluster.knn import knn_clusters, knn_collision_clusters\n",
    "from openclean.function.similarity.base import SimilarityConstraint\n",
    "from openclean.function.similarity.text import LevenshteinDistance\n",
    "from openclean.function.value.threshold import GreaterThan\n",
    "\n",
    "from openclean.function.value.null import is_empty\n",
    "from openclean.operator.transform.update import update\n",
    "\n",
    "\n",
    "def calc_effectiveness(problem_rows, cleaned_rows):\n",
    "    precision = intersected_num / cleaned_rows * 1.0 if cleaned_rows != 0 else 0.0\n",
    "    recall = intersected_num / problem_rows * 1.0 if problem_rows != 0 else 0.0\n",
    "    print(f\"Data cleaned with precision {precision} and recall {recall} in {intersected_num} cleaning rows\")\n",
    "    return precision, recall\n",
    "\n",
    "def print_cluster(cnumber, cluster):\n",
    "    print('Cluster {} (of size {})\\n'.format(cnumber, len(cluster)))\n",
    "    for val, count in cluster.items():\n",
    "        print('{} ({})'.format(val, count))\n",
    "    print('\\nSuggested value: {}\\n\\n'.format(cluster.suggestion()))\n",
    "\n",
    "def perform_knn_cluster(ds_full, column, using_collision=True, minsize=2, t=0.6):\n",
    "    values = ds_full.select(column).distinct()\n",
    "    clusters = knn_clusters(values=values, sim=SimilarityConstraint(func=LevenshteinDistance(), pred=GreaterThan(t)), minsize=minsize) \\\n",
    "        if using_collision else knn_collision_clusters(values=values, sim=SimilarityConstraint(func=LevenshteinDistance(), pred=GreaterThan(t)), minsize=minsize)\n",
    "    print('{} clusters of size {} or greater'.format(len(clusters), minsize))\n",
    "    clusters.sort(key=lambda c: len(c), reverse=True)\n",
    "    for i, cluster in enumerate(clusters):\n",
    "        print_cluster(i + 1, cluster)\n",
    "\n",
    "def profiling_data(datafile, column):\n",
    "    ds_full = stream(datafile, encoding='utf-8')\n",
    "    df = ds_full.to_df()\n",
    "    borough = df[column].value_counts()\n",
    "    print(borough)\n",
    "    print(\"Total locations: \", len(borough))\n",
    "    return df\n",
    "    \n",
    "def cleaning_data_original(df, column):\n",
    "    rows_affected_upper = df[df[column] != df[column].str.upper()].index\n",
    "    df = update(df, columns=column, func=str.upper)\n",
    "    rows_affected_empty = df.isnull().index\n",
    "    df = update(df, columns=column, func=lambda x: 'OTHER' if is_empty(x) else x)\n",
    "    cleaned_rows = rows_affected_upper.union(rows_affected_empty)\n",
    "    return df, cleaned_rows\n",
    "    \n",
    "def save_cleaned_data(df, output='result.csv'):\n",
    "    df.to_csv('output')"
   ]
  },
  {
   "cell_type": "code",
   "execution_count": 195,
   "id": "46397738",
   "metadata": {},
   "outputs": [
    {
     "name": "stdout",
     "output_type": "stream",
     "text": [
      "Load data:  ../project_data/data-cityofnewyork-us.8eq5-dtjb.csv\n",
      "Load data:  ../project_data/data-cityofnewyork-us.emuv-tx7t.csv\n",
      "Load data:  ../project_data/data-cityofnewyork-us.gt6r-wh7c.csv\n",
      "Load data:  ../project_data/data-cityofnewyork-us.un8d-rbed.csv\n",
      "Load data:  ../project_data/data-cityofnewyork-us.m6ad-jy3s.csv\n",
      "Load data:  ../project_data/data-cityofnewyork-us.wye7-nyek.csv\n",
      "Load data:  ../project_data/data-cityofnewyork-us.bty7-2jhb.csv\n",
      "Load data:  ../project_data/data-cityofnewyork-us.xrwg-eczf.csv\n",
      "Load data:  ../project_data/data-cityofnewyork-us.3rfa-3xsf.csv\n",
      "Load data:  ../project_data/data-cityofnewyork-us.aiww-p3af.csv\n",
      "Load data:  ../project_data/data-cityofnewyork-us.cwy2-px8b.csv\n",
      "Load data:  ../project_data/data-cityofnewyork-us.hy4q-igkk.csv\n",
      "Borough                                          \n",
      "Unspecified                                          2065646\n",
      "MANHATTAN                                            1744766\n",
      "QUEENS                                               1521834\n",
      "BROOKLYN                                             1516098\n",
      "BRONX                                                 653361\n",
      "STATEN ISLAND                                         398130\n",
      "                                                       11989\n",
      "Brooklyn                                                3214\n",
      "Manhattan                                               2281\n",
      "Queens                                                  2202\n",
      "Bronx                                                    889\n",
      "Staten Island                                            288\n",
      "LIC                                                      265\n",
      "Long Island City                                         111\n",
      "MN                                                       100\n",
      "BK                                                        92\n",
      "QN                                                        51\n",
      "BX                                                        39\n",
      "S.I.                                                      30\n",
      "Jackson Heights                                           24\n",
      "Flushing                                                  20\n",
      "SI                                                        15\n",
      "Bronx;#Brooklyn;#Manhattan;#Queens;#Staten Island         14\n",
      "Bayside                                                    9\n",
      "Brooklyhn                                                  9\n",
      "Jamaica                                                    9\n",
      "Manhattan;#Queens                                          7\n",
      "10014                                                      6\n",
      "Staten Island;#Queens;#Manhattan;#Brooklyn;#Bronx          4\n",
      "Bronx;#Manhattan                                           4\n",
      "Bronx;#Queens                                              3\n",
      "Brooklyn;#Manhattan                                        3\n",
      "Queens;#Brooklyn                                           3\n",
      "Queens;#Bronx                                              3\n",
      "Manhattan;#Bronx                                           3\n",
      "Bronx;#Brooklyn;#Manhattan;#Queens                         3\n",
      "Manhattan;#Brooklyn                                        3\n",
      "Brooklyn;#Staten Island                                    3\n",
      "Queens;#Manhattan                                          2\n",
      "Bronx;#Manhattan;#Queens                                   2\n",
      "Broorlyn                                                   2\n",
      "Staten Island;#Brooklyn                                    2\n",
      "Brooklyn;#Bronx;#Manhattan;#Queens                         2\n",
      "Brooklyn;#Queens;#Bronx                                    2\n",
      "Bronx;#Brooklyn;#Manhattan                                 2\n",
      "Staten Island;#Queens;#Brooklyn;#Bronx;#Manhattan          1\n",
      "Staten Island;#Queens;#Manhattan;#Bronx;#Brooklyn          1\n",
      "Staten Island;#Manhattan;#Brooklyn;#Bronx;#Queens          1\n",
      "Queens;#Staten Island;#Brooklyn                            1\n",
      "Bronx;#Brooklyn;#Queens;#Staten Island                     1\n",
      "Queens;#Manhattan;#Brooklyn;#Staten Island                 1\n",
      "Queens;#Manhattan;#Brooklyn;#Bronx                         1\n",
      "Queens;#Brooklyn;#Staten Island                            1\n",
      "Queens;#Bronx;#Brooklyn                                    1\n",
      "Manhattan;#Brooklyn;#Bronx;#Queens;#Staten Island          1\n",
      "Bronx;#Brooklyn;#Queens;#Staten Island;#Manhattan          1\n",
      "Brooklyn;#Queens                                           1\n",
      "Brooklyn;#Manhattan;#Staten Island                         1\n",
      "Bronx;#Queens;#Staten Island                               1\n",
      "Bronx;#Queens;#Manhattan;#Brooklyn                         1\n",
      "Manhattan;#Bronx;#Queens                                   1\n",
      "dtype: int64\n"
     ]
    }
   ],
   "source": [
    "# Since our aim was only to clean the columns which were overlap with the starting data set \n",
    "# hence we load all the dataset at once then performing data cleaning to create reference data\n",
    "\n",
    "borough_df = pd.DataFrame(columns=['Borough'])\n",
    "\n",
    "for i in range(len(data_list)):\n",
    "    datafile = data_dir + data_list[i]\n",
    "    print(\"Load data: \", datafile)\n",
    "    ds = dataset(datafile, encoding='utf-8')\n",
    "    ds.rename(columns={'BOROUGH': 'Borough'}, inplace=True)\n",
    "    borough = ds[['Borough']]\n",
    "    borough_df = borough_df.append(borough)\n",
    "    \n",
    "print(borough_df.value_counts())"
   ]
  },
  {
   "cell_type": "code",
   "execution_count": 196,
   "id": "702787ee",
   "metadata": {},
   "outputs": [],
   "source": [
    "# Next we cleaned the overall column 'Borough' and generate our reference data\n",
    "# First we extracted only the column 'Borough'\n",
    "borough_df.to_csv('../reference_data/borough_rows_all.csv', index=None)"
   ]
  },
  {
   "cell_type": "code",
   "execution_count": 197,
   "id": "9f5f6cc8",
   "metadata": {},
   "outputs": [],
   "source": [
    "# Load the intermediate dataset as stream format\n",
    "ds_full = stream('../reference_data/borough_rows_all.csv', encoding='utf-8')"
   ]
  },
  {
   "cell_type": "code",
   "execution_count": 198,
   "id": "a4757acf",
   "metadata": {},
   "outputs": [
    {
     "name": "stdout",
     "output_type": "stream",
     "text": [
      "34 clusters of size 2 or greater\n",
      "Cluster 1 (of size 7)\n",
      "\n",
      "Bronx;#Brooklyn;#Manhattan;#Queens;#Staten Island (14)\n",
      "Brooklyn;#Staten Island (3)\n",
      "Bronx;#Brooklyn;#Queens;#Staten Island;#Manhattan (1)\n",
      "Manhattan;#Brooklyn;#Bronx;#Queens;#Staten Island (1)\n",
      "Queens;#Brooklyn;#Staten Island (1)\n",
      "Bronx;#Queens;#Staten Island (1)\n",
      "Bronx;#Brooklyn;#Queens;#Staten Island (1)\n",
      "\n",
      "Suggested value: Bronx;#Brooklyn;#Manhattan;#Queens;#Staten Island\n",
      "\n",
      "\n",
      "Cluster 2 (of size 6)\n",
      "\n",
      "Brooklyn;#Manhattan (3)\n",
      "Brooklyn;#Manhattan;#Staten Island (1)\n",
      "Queens;#Brooklyn;#Staten Island (1)\n",
      "Bronx;#Brooklyn;#Queens;#Staten Island (1)\n",
      "Bronx;#Queens;#Staten Island (1)\n",
      "Brooklyn;#Staten Island (3)\n",
      "\n",
      "Suggested value: Brooklyn;#Manhattan\n",
      "\n",
      "\n",
      "Cluster 3 (of size 5)\n",
      "\n",
      "Brooklyn;#Manhattan;#Staten Island (1)\n",
      "Bronx;#Brooklyn;#Manhattan;#Queens (3)\n",
      "Manhattan;#Brooklyn;#Bronx;#Queens;#Staten Island (1)\n",
      "Bronx;#Brooklyn;#Queens;#Staten Island (1)\n",
      "Bronx;#Brooklyn;#Manhattan;#Queens;#Staten Island (14)\n",
      "\n",
      "Suggested value: Bronx;#Brooklyn;#Manhattan;#Queens;#Staten Island\n",
      "\n",
      "\n",
      "Cluster 4 (of size 5)\n",
      "\n",
      "Bronx;#Brooklyn;#Manhattan;#Queens;#Staten Island (14)\n",
      "Bronx;#Brooklyn;#Manhattan (2)\n",
      "Brooklyn;#Bronx;#Manhattan;#Queens (2)\n",
      "Bronx;#Manhattan;#Queens (2)\n",
      "Bronx;#Brooklyn;#Manhattan;#Queens (3)\n",
      "\n",
      "Suggested value: Bronx;#Brooklyn;#Manhattan;#Queens;#Staten Island\n",
      "\n",
      "\n",
      "Cluster 5 (of size 5)\n",
      "\n",
      "Staten Island;#Queens;#Manhattan;#Bronx;#Brooklyn (1)\n",
      "Staten Island;#Manhattan;#Brooklyn;#Bronx;#Queens (1)\n",
      "Bronx;#Queens;#Manhattan;#Brooklyn (1)\n",
      "Queens;#Manhattan;#Brooklyn;#Bronx (1)\n",
      "Staten Island;#Queens;#Manhattan;#Brooklyn;#Bronx (4)\n",
      "\n",
      "Suggested value: Staten Island;#Queens;#Manhattan;#Brooklyn;#Bronx\n",
      "\n",
      "\n",
      "Cluster 6 (of size 5)\n",
      "\n",
      "Brooklyn;#Manhattan (3)\n",
      "Queens;#Manhattan (2)\n",
      "Bronx;#Manhattan;#Queens (2)\n",
      "Bronx;#Brooklyn;#Manhattan (2)\n",
      "Bronx;#Manhattan (4)\n",
      "\n",
      "Suggested value: Bronx;#Manhattan\n",
      "\n",
      "\n",
      "Cluster 7 (of size 5)\n",
      "\n",
      "Bronx;#Manhattan (4)\n",
      "Manhattan;#Queens (7)\n",
      "Brooklyn;#Bronx;#Manhattan;#Queens (2)\n",
      "Bronx;#Brooklyn;#Manhattan;#Queens (3)\n",
      "Bronx;#Manhattan;#Queens (2)\n",
      "\n",
      "Suggested value: Manhattan;#Queens\n",
      "\n",
      "\n",
      "Cluster 8 (of size 4)\n",
      "\n",
      "Staten Island;#Queens;#Brooklyn;#Bronx;#Manhattan (1)\n",
      "Staten Island;#Queens;#Manhattan;#Brooklyn;#Bronx (4)\n",
      "Bronx;#Queens;#Manhattan;#Brooklyn (1)\n",
      "Staten Island;#Queens;#Manhattan;#Bronx;#Brooklyn (1)\n",
      "\n",
      "Suggested value: Staten Island;#Queens;#Manhattan;#Brooklyn;#Bronx\n",
      "\n",
      "\n",
      "Cluster 9 (of size 4)\n",
      "\n",
      "Staten Island;#Queens;#Brooklyn;#Bronx;#Manhattan (1)\n",
      "Staten Island;#Queens;#Manhattan;#Brooklyn;#Bronx (4)\n",
      "Queens;#Manhattan;#Brooklyn;#Bronx (1)\n",
      "Staten Island;#Manhattan;#Brooklyn;#Bronx;#Queens (1)\n",
      "\n",
      "Suggested value: Staten Island;#Queens;#Manhattan;#Brooklyn;#Bronx\n",
      "\n",
      "\n",
      "Cluster 10 (of size 4)\n",
      "\n",
      "Staten Island;#Queens;#Manhattan;#Brooklyn;#Bronx (4)\n",
      "Staten Island;#Manhattan;#Brooklyn;#Bronx;#Queens (1)\n",
      "Queens;#Manhattan;#Brooklyn;#Staten Island (1)\n",
      "Queens;#Manhattan;#Brooklyn;#Bronx (1)\n",
      "\n",
      "Suggested value: Staten Island;#Queens;#Manhattan;#Brooklyn;#Bronx\n",
      "\n",
      "\n",
      "Cluster 11 (of size 4)\n",
      "\n",
      "Brooklyn;#Staten Island (3)\n",
      "Bronx;#Brooklyn;#Manhattan (2)\n",
      "Bronx;#Manhattan (4)\n",
      "Brooklyn;#Manhattan (3)\n",
      "\n",
      "Suggested value: Bronx;#Manhattan\n",
      "\n",
      "\n",
      "Cluster 12 (of size 4)\n",
      "\n",
      "Brooklyn;#Staten Island (3)\n",
      "Queens;#Manhattan;#Brooklyn;#Staten Island (1)\n",
      "Bronx;#Brooklyn;#Queens;#Staten Island (1)\n",
      "Queens;#Brooklyn;#Staten Island (1)\n",
      "\n",
      "Suggested value: Brooklyn;#Staten Island\n",
      "\n",
      "\n",
      "Cluster 13 (of size 4)\n",
      "\n",
      "Brooklyn;#Manhattan (3)\n",
      "Bronx;#Brooklyn;#Manhattan;#Queens (3)\n",
      "Bronx;#Manhattan (4)\n",
      "Bronx;#Brooklyn;#Manhattan (2)\n",
      "\n",
      "Suggested value: Bronx;#Manhattan\n",
      "\n",
      "\n",
      "Cluster 14 (of size 4)\n",
      "\n",
      "Staten Island;#Brooklyn (2)\n",
      "Manhattan;#Bronx (3)\n",
      "Manhattan;#Bronx;#Queens (1)\n",
      "Manhattan;#Brooklyn (3)\n",
      "\n",
      "Suggested value: Manhattan;#Bronx\n",
      "\n",
      "\n",
      "Cluster 15 (of size 4)\n",
      "\n",
      "Manhattan;#Queens (7)\n",
      "Manhattan;#Bronx;#Queens (1)\n",
      "Manhattan;#Brooklyn (3)\n",
      "Manhattan;#Bronx (3)\n",
      "\n",
      "Suggested value: Manhattan;#Queens\n",
      "\n",
      "\n",
      "Cluster 16 (of size 4)\n",
      "\n",
      "Manhattan;#Bronx (3)\n",
      "Manhattan;#Bronx;#Queens (1)\n",
      "Bronx;#Manhattan;#Queens (2)\n",
      "Manhattan;#Queens (7)\n",
      "\n",
      "Suggested value: Manhattan;#Queens\n",
      "\n",
      "\n",
      "Cluster 17 (of size 3)\n",
      "\n",
      "Queens;#Bronx;#Brooklyn (1)\n",
      "Queens;#Bronx (3)\n",
      "Queens;#Brooklyn (3)\n",
      "\n",
      "Suggested value: Queens;#Bronx\n",
      "\n",
      "\n",
      "Cluster 18 (of size 3)\n",
      "\n",
      "Queens;#Brooklyn (3)\n",
      "Queens;#Staten Island;#Brooklyn (1)\n",
      "Queens;#Bronx;#Brooklyn (1)\n",
      "\n",
      "Suggested value: Queens;#Brooklyn\n",
      "\n",
      "\n",
      "Cluster 19 (of size 3)\n",
      "\n",
      "Bronx;#Brooklyn;#Manhattan;#Queens;#Staten Island (14)\n",
      "Brooklyn;#Staten Island (3)\n",
      "Brooklyn;#Manhattan;#Staten Island (1)\n",
      "\n",
      "Suggested value: Bronx;#Brooklyn;#Manhattan;#Queens;#Staten Island\n",
      "\n",
      "\n",
      "Cluster 20 (of size 3)\n",
      "\n",
      "Bronx;#Brooklyn;#Manhattan;#Queens;#Staten Island (14)\n",
      "Bronx;#Brooklyn;#Queens;#Staten Island (1)\n",
      "Manhattan;#Brooklyn;#Bronx;#Queens;#Staten Island (1)\n",
      "\n",
      "Suggested value: Bronx;#Brooklyn;#Manhattan;#Queens;#Staten Island\n",
      "\n",
      "\n",
      "Cluster 21 (of size 3)\n",
      "\n",
      "Brooklyn;#Queens;#Bronx (2)\n",
      "Bronx;#Queens (3)\n",
      "Brooklyn;#Queens (1)\n",
      "\n",
      "Suggested value: Bronx;#Queens\n",
      "\n",
      "\n",
      "Cluster 22 (of size 3)\n",
      "\n",
      "Staten Island;#Queens;#Manhattan;#Bronx;#Brooklyn (1)\n",
      "Staten Island;#Manhattan;#Brooklyn;#Bronx;#Queens (1)\n",
      "Staten Island;#Queens;#Brooklyn;#Bronx;#Manhattan (1)\n",
      "\n",
      "Suggested value: Staten Island;#Queens;#Manhattan;#Bronx;#Brooklyn\n",
      "\n",
      "\n",
      "Cluster 23 (of size 3)\n",
      "\n",
      "Staten Island;#Queens;#Manhattan;#Bronx;#Brooklyn (1)\n",
      "Staten Island;#Queens;#Manhattan;#Brooklyn;#Bronx (4)\n",
      "Bronx;#Queens;#Manhattan;#Brooklyn (1)\n",
      "\n",
      "Suggested value: Staten Island;#Queens;#Manhattan;#Brooklyn;#Bronx\n",
      "\n",
      "\n",
      "Cluster 24 (of size 3)\n",
      "\n",
      "Manhattan;#Brooklyn (3)\n",
      "Queens;#Staten Island;#Brooklyn (1)\n",
      "Staten Island;#Brooklyn (2)\n",
      "\n",
      "Suggested value: Manhattan;#Brooklyn\n",
      "\n",
      "\n",
      "Cluster 25 (of size 3)\n",
      "\n",
      "Bronx;#Brooklyn;#Manhattan;#Queens (3)\n",
      "Bronx;#Manhattan;#Queens (2)\n",
      "Brooklyn;#Bronx;#Manhattan;#Queens (2)\n",
      "\n",
      "Suggested value: Bronx;#Brooklyn;#Manhattan;#Queens\n",
      "\n",
      "\n",
      "Cluster 26 (of size 3)\n",
      "\n",
      "Queens;#Bronx;#Brooklyn (1)\n",
      "Staten Island;#Brooklyn (2)\n",
      "Queens;#Staten Island;#Brooklyn (1)\n",
      "\n",
      "Suggested value: Staten Island;#Brooklyn\n",
      "\n",
      "\n",
      "Cluster 27 (of size 3)\n",
      "\n",
      "Queens;#Manhattan;#Brooklyn;#Bronx (1)\n",
      "Queens;#Brooklyn;#Staten Island (1)\n",
      "Queens;#Manhattan;#Brooklyn;#Staten Island (1)\n",
      "\n",
      "Suggested value: Queens;#Manhattan;#Brooklyn;#Bronx\n",
      "\n",
      "\n",
      "Cluster 28 (of size 3)\n",
      "\n",
      "Bronx;#Brooklyn;#Queens;#Staten Island (1)\n",
      "Brooklyn;#Staten Island (3)\n",
      "Bronx;#Queens;#Staten Island (1)\n",
      "\n",
      "Suggested value: Brooklyn;#Staten Island\n",
      "\n",
      "\n",
      "Cluster 29 (of size 2)\n",
      "\n",
      "Brooklyhn (9)\n",
      "Brooklyn (3214)\n",
      "\n",
      "Suggested value: Brooklyn\n",
      "\n",
      "\n",
      "Cluster 30 (of size 2)\n",
      "\n",
      "Brooklyn;#Queens (1)\n",
      "Brooklyn;#Queens;#Bronx (2)\n",
      "\n",
      "Suggested value: Brooklyn;#Queens;#Bronx\n",
      "\n",
      "\n",
      "Cluster 31 (of size 2)\n",
      "\n",
      "Bronx;#Brooklyn;#Queens;#Staten Island (1)\n",
      "Bronx;#Brooklyn;#Queens;#Staten Island;#Manhattan (1)\n",
      "\n",
      "Suggested value: Bronx;#Brooklyn;#Queens;#Staten Island\n",
      "\n",
      "\n",
      "Cluster 32 (of size 2)\n",
      "\n",
      "Bronx;#Manhattan (4)\n",
      "Queens;#Manhattan (2)\n",
      "\n",
      "Suggested value: Bronx;#Manhattan\n",
      "\n",
      "\n",
      "Cluster 33 (of size 2)\n",
      "\n",
      "Queens;#Brooklyn (3)\n",
      "Queens;#Bronx (3)\n",
      "\n",
      "Suggested value: Queens;#Brooklyn\n",
      "\n",
      "\n",
      "Cluster 34 (of size 2)\n",
      "\n",
      "Brooklyn;#Queens (1)\n",
      "Bronx;#Queens (3)\n",
      "\n",
      "Suggested value: Bronx;#Queens\n",
      "\n",
      "\n"
     ]
    }
   ],
   "source": [
    "# And perform knn cluster\n",
    "perform_knn_cluster(ds_full, 'Borough')"
   ]
  },
  {
   "cell_type": "code",
   "execution_count": 199,
   "id": "fa8475b2",
   "metadata": {},
   "outputs": [],
   "source": [
    "# From cluster 29 we noticed there was a typo for 'Brooklyhn' ('Brooklyn'), transform the overall stream to DataFrame\n",
    "df_overall = ds_full.to_df()"
   ]
  },
  {
   "cell_type": "code",
   "execution_count": 200,
   "id": "5f479ce7",
   "metadata": {},
   "outputs": [
    {
     "name": "stdout",
     "output_type": "stream",
     "text": [
      "UNSPECIFIED                                          2077635\n",
      "MANHATTAN                                            1747047\n",
      "QUEENS                                               1524036\n",
      "BROOKLYN                                             1519321\n",
      "BRONX                                                 654250\n",
      "STATEN ISLAND                                         398418\n",
      "LIC                                                      265\n",
      "LONG ISLAND CITY                                         111\n",
      "MN                                                       100\n",
      "BK                                                        92\n",
      "QN                                                        51\n",
      "BX                                                        39\n",
      "S.I.                                                      30\n",
      "JACKSON HEIGHTS                                           24\n",
      "FLUSHING                                                  20\n",
      "SI                                                        15\n",
      "BRONX;#BROOKLYN;#MANHATTAN;#QUEENS;#STATEN ISLAND         14\n",
      "JAMAICA                                                    9\n",
      "BAYSIDE                                                    9\n",
      "MANHATTAN;#QUEENS                                          7\n",
      "10014                                                      6\n",
      "STATEN ISLAND;#QUEENS;#MANHATTAN;#BROOKLYN;#BRONX          4\n",
      "BRONX;#MANHATTAN                                           4\n",
      "QUEENS;#BROOKLYN                                           3\n",
      "BRONX;#BROOKLYN;#MANHATTAN;#QUEENS                         3\n",
      "MANHATTAN;#BROOKLYN                                        3\n",
      "BROOKLYN;#MANHATTAN                                        3\n",
      "QUEENS;#BRONX                                              3\n",
      "BROOKLYN;#STATEN ISLAND                                    3\n",
      "MANHATTAN;#BRONX                                           3\n",
      "BRONX;#QUEENS                                              3\n",
      "BROORLYN                                                   2\n",
      "QUEENS;#MANHATTAN                                          2\n",
      "BROOKLYN;#QUEENS;#BRONX                                    2\n",
      "BRONX;#MANHATTAN;#QUEENS                                   2\n",
      "BRONX;#BROOKLYN;#MANHATTAN                                 2\n",
      "BROOKLYN;#BRONX;#MANHATTAN;#QUEENS                         2\n",
      "STATEN ISLAND;#BROOKLYN                                    2\n",
      "MANHATTAN;#BROOKLYN;#BRONX;#QUEENS;#STATEN ISLAND          1\n",
      "QUEENS;#BROOKLYN;#STATEN ISLAND                            1\n",
      "BROOKLYN;#QUEENS                                           1\n",
      "QUEENS;#MANHATTAN;#BROOKLYN;#BRONX                         1\n",
      "BRONX;#QUEENS;#MANHATTAN;#BROOKLYN                         1\n",
      "QUEENS;#BRONX;#BROOKLYN                                    1\n",
      "BRONX;#QUEENS;#STATEN ISLAND                               1\n",
      "STATEN ISLAND;#QUEENS;#BROOKLYN;#BRONX;#MANHATTAN          1\n",
      "QUEENS;#MANHATTAN;#BROOKLYN;#STATEN ISLAND                 1\n",
      "BROOKLYN;#MANHATTAN;#STATEN ISLAND                         1\n",
      "QUEENS;#STATEN ISLAND;#BROOKLYN                            1\n",
      "BRONX;#BROOKLYN;#QUEENS;#STATEN ISLAND;#MANHATTAN          1\n",
      "MANHATTAN;#BRONX;#QUEENS                                   1\n",
      "STATEN ISLAND;#MANHATTAN;#BROOKLYN;#BRONX;#QUEENS          1\n",
      "STATEN ISLAND;#QUEENS;#MANHATTAN;#BRONX;#BROOKLYN          1\n",
      "BRONX;#BROOKLYN;#QUEENS;#STATEN ISLAND                     1\n",
      "Name: Borough, dtype: int64\n"
     ]
    }
   ],
   "source": [
    "# Than we apply our original strategy to these datasets to get the effectiveness of the strategy\n",
    "\n",
    "df_clean = update(df_overall, columns='Borough', func=str.upper)\n",
    "df_clean = update(df_clean, columns='Borough', func=lambda x: 'BROOKLYN' if str(x) == 'BROOKLYHN' else x)\n",
    "df_clean = update(df_clean, columns='Borough', func=lambda x: 'UNSPECIFIED' if is_empty(x) else x)\n",
    "borough = df_clean['Borough'].value_counts()\n",
    "print(borough)"
   ]
  },
  {
   "cell_type": "code",
   "execution_count": 201,
   "id": "fc9c43cd",
   "metadata": {},
   "outputs": [
    {
     "name": "stdout",
     "output_type": "stream",
     "text": [
      "Precision: 0.9996746170640588, Recall: 0.9994341902404763\n"
     ]
    }
   ],
   "source": [
    "# Measure effectiveness of the borough column\n",
    "# In this step, we would calculate the overall effectiveness of our original data clean strategy regarding borough\n",
    "# From the data above, we inspected the problem of data set manually\n",
    "\n",
    "# 1. In our original strategy, we fill the borough which was unknown to 'OTHER', while in this case some were marked as 'Unspecified', hence we use UNSPECIFIED instead of UIKNOWN\n",
    "# 2. We converted the all the values to uppercase\n",
    "# 3. We use cluster to check the spelling error\n",
    "\n",
    "# From the saved intermediate data set, we found total number of problem rows from the total 12 data set with column borough: 2087274\n",
    "# Next we cleaned the overall data set to check the effectiveness of our method:\n",
    "\n",
    "# The overall rows changed by our strategy was: 2086772\n",
    "# For some columns, we found our strategy could not clean the data into correct format, the number of row was: 679\n",
    "# Hence we get our precision : \n",
    "precision = 1.0 * (2086772 - 679) / 2086772\n",
    "recall = 1.0 * (2086772 - 679) / 2087274\n",
    "print(f'Precision: {precision}, Recall: {recall}')"
   ]
  },
  {
   "cell_type": "code",
   "execution_count": 202,
   "id": "be323880",
   "metadata": {},
   "outputs": [
    {
     "name": "stdout",
     "output_type": "stream",
     "text": [
      "Borough         \n",
      "UNSPECIFIED         2077635\n",
      "MANHATTAN           1747062\n",
      "QUEENS              1524049\n",
      "BROOKLYN            1519333\n",
      "BRONX                654282\n",
      "STATEN ISLAND        398427\n",
      "LIC                     265\n",
      "LONG ISLAND CITY        111\n",
      "MN                      100\n",
      "BK                       92\n",
      "QN                       51\n",
      "BX                       39\n",
      "S.I.                     30\n",
      "JACKSON HEIGHTS          24\n",
      "FLUSHING                 20\n",
      "SI                       15\n",
      "JAMAICA                   9\n",
      "BAYSIDE                   9\n",
      "10014                     6\n",
      "BROORLYN                  2\n",
      "dtype: int64\n"
     ]
    }
   ],
   "source": [
    "# We refined our strategy\n",
    "# Since we found for some rows such as \"BRONX;#QUEENS;#STATEN ISLAND\", we changed this by only using the first borough\n",
    "df_clean = update(df_clean, columns='Borough', func=lambda x: str(x).split(';')[0])\n",
    "print(df_clean.value_counts())"
   ]
  },
  {
   "cell_type": "code",
   "execution_count": 249,
   "id": "ec6c7578",
   "metadata": {},
   "outputs": [
    {
     "name": "stdout",
     "output_type": "stream",
     "text": [
      "Borough         \n",
      "UNSPECIFIED         2077635\n",
      "MANHATTAN           1747168\n",
      "QUEENS              1524100\n",
      "BROOKLYN            1519427\n",
      "BRONX                654321\n",
      "STATEN ISLAND        398472\n",
      "LONG ISLAND CITY        376\n",
      "JACKSON HEIGHTS          24\n",
      "FLUSHING                 20\n",
      "BAYSIDE                   9\n",
      "JAMAICA                   9\n",
      "dtype: int64\n"
     ]
    }
   ],
   "source": [
    "# We also noticed that the knn cluster could not specify a typo 'BROORLYN'\n",
    "# There were a digital item '10014', after we referred from the internet, we assdf_clean = update(df_clean, columns='Borough', func=lambda x: 'MANHATTAN' if str(x) == '10014' else x)\n",
    "# We assume it was a zipcode located in Manhattan, hence we replace it with 'MANHATTAN'\n",
    "# Hence we have a reference data to show all the NYC zip code and their borough\n",
    "# Ref: https://github.com/erikgregorywebb/nyc-housing/blob/master/Data/nyc-zip-codes.csv\n",
    "zip_code = dataset('../reference_data/nyc-zip-codes.csv')\n",
    "zip_code = update(zip_code, columns='Borough', func=str.upper)\n",
    "zip_map = dict(zip(zip_code['ZipCode'],zip_code['Borough']))\n",
    "\n",
    "df_clean = update(df_clean, columns='Borough', func=lambda x: 'BROOKLYN' if str(x) == 'BROORLYN' else x)\n",
    "df_clean = update(df_clean, columns='Borough', func=lambda x: zip_map[str(x)] if str(x) in zip_map else x)\n",
    "\n",
    "print(df_clean.value_counts())"
   ]
  },
  {
   "cell_type": "code",
   "execution_count": 250,
   "id": "68c3076c",
   "metadata": {},
   "outputs": [
    {
     "name": "stdout",
     "output_type": "stream",
     "text": [
      "Borough         \n",
      "UNSPECIFIED         2077635\n",
      "MANHATTAN           1747168\n",
      "QUEENS              1524100\n",
      "BROOKLYN            1519427\n",
      "BRONX                654321\n",
      "STATEN ISLAND        398472\n",
      "LONG ISLAND CITY        376\n",
      "JACKSON HEIGHTS          24\n",
      "FLUSHING                 20\n",
      "BAYSIDE                   9\n",
      "JAMAICA                   9\n",
      "dtype: int64\n"
     ]
    }
   ],
   "source": [
    "# Now we noticed that there were also some abbreviation representation of the borough, for example, 'MN' for 'Manhattan', 'LIC' for 'Long ISLAND CITY'\n",
    "# We fixed them using their full names\n",
    "# We also generated a reference data from the abbreviation we encountered\n",
    "# Our new strategy was mapping unformatted value from formatted reference data generated from starting dataset\n",
    "\n",
    "abb_map = {'MN': 'MANHATTAN', \n",
    "           'BK': 'BROOKLYN', \n",
    "           'QN': 'QUEENS', \n",
    "           'BX': 'BRONX', \n",
    "           'S.I.': 'STATEN ISLAND', \n",
    "           'LIC': 'LONG ISLAND CITY', \n",
    "           'SI': 'STATEN ISLAND'}\n",
    "\n",
    "df_clean = update(df_clean, columns='Borough', func=lambda x: abb_map[str(x)] if str(x) in abb_map else x)\n",
    "print(df_clean.value_counts())"
   ]
  },
  {
   "cell_type": "code",
   "execution_count": 206,
   "id": "554fcd25",
   "metadata": {},
   "outputs": [],
   "source": [
    "# Now we implement our new data clean strategy\n",
    "from openclean.function.eval.base import Col\n",
    "\n",
    "def improved_data_clean_borough(ds_full, column):\n",
    "    abb_map = {'MN': 'MANHATTAN', 'BK': 'BROOKLYN', 'QN': 'QUEENS', 'BX': 'BRONX', 'S.I.': 'STATEN ISLAND', 'LIC': 'LONG ISLAND CITY', 'SI': 'STATEN ISLAND'}\n",
    "    ds_full = update(ds_full, columns=column, func=str.upper)\n",
    "    ds_full = update(ds_full, columns=column, func=lambda x: 'BROOKLYN' if str(x) == 'BROOKLYHN' else x)\n",
    "    ds_full = update(ds_full, columns=column, func=lambda x: 'UNSPECIFIED' if is_empty(x) else x)\n",
    "    ds_full = update(ds_full, columns=column, func=lambda x: str(x).split(';')[0])\n",
    "    ds_full = update(ds_full, columns='Borough', func=lambda x: zip_map[str(x)] if str(x) in zip_map else x)\n",
    "    ds_full = update(ds_full, columns=column, func=lambda x: 'BROOKLYN' if str(x) == 'BROORLYN' else x)\n",
    "    ds_full = update(ds_full, columns=column, func=lambda x: abb_map[str(x)] if str(x) in abb_map else x)\n",
    "    return ds_full"
   ]
  },
  {
   "cell_type": "markdown",
   "id": "188b88cb",
   "metadata": {},
   "source": [
    "## Apply new strategy to the datasets\n",
    "\n",
    "Since we measured our old strategy by precision and recall, next we generate our reference data with our new strategy file to file."
   ]
  },
  {
   "cell_type": "markdown",
   "id": "6354408d",
   "metadata": {},
   "source": [
    "First we define the visualisation function, for borough column, we only use histogram and treemap, to scale the borough with difference value and show the value count in each borough"
   ]
  },
  {
   "cell_type": "code",
   "execution_count": 263,
   "id": "ccec39c2",
   "metadata": {},
   "outputs": [],
   "source": [
    "import matplotlib.pyplot as plt\n",
    "import squarify\n",
    "import math\n",
    "\n",
    "plt.rc('font', size=8)\n",
    "\n",
    "def draw_tree_map(numbers, groups):\n",
    "    df_treemap = pd.DataFrame({'borough_counts': [math.log(x) for x in numbers], 'borough': groups })\n",
    "    squarify.plot(sizes=df_treemap['borough_counts'], label=df_treemap['borough'], alpha=.8)\n",
    "    plt.axis('off')\n",
    "    plt.show()\n",
    "    \n",
    "def draw_hist(numbers, groups):\n",
    "    plt.barh(range(numbers.count()), [math.log(x) for x in numbers], height=0.7, color='steelblue', alpha=0.8)\n",
    "    plt.xlabel('counts (log)')\n",
    "    plt.ylabel('Borough')\n",
    "    plt.yticks(range(groups.count()), groups)"
   ]
  },
  {
   "cell_type": "code",
   "execution_count": 264,
   "id": "b1ab5c67",
   "metadata": {},
   "outputs": [
    {
     "name": "stdout",
     "output_type": "stream",
     "text": [
      "             Borough    count\n",
      "0        UNSPECIFIED  2077635\n",
      "1          MANHATTAN  1747168\n",
      "2             QUEENS  1524100\n",
      "3           BROOKLYN  1519427\n",
      "4              BRONX   654321\n",
      "5      STATEN ISLAND   398472\n",
      "6   LONG ISLAND CITY      376\n",
      "7    JACKSON HEIGHTS       24\n",
      "8           FLUSHING       20\n",
      "9            BAYSIDE        9\n",
      "10           JAMAICA        9\n"
     ]
    }
   ],
   "source": [
    "res = df_clean.value_counts().reset_index()\n",
    "res.columns = ['Borough', 'count']\n",
    "print(res)"
   ]
  },
  {
   "cell_type": "code",
   "execution_count": 265,
   "id": "eca73fb4",
   "metadata": {},
   "outputs": [
    {
     "data": {
      "image/png": "[encoded data removed]",
      "text/plain": [
       "<Figure size 432x288 with 1 Axes>"
      ]
     },
     "metadata": {
      "needs_background": "light"
     },
     "output_type": "display_data"
    },
    {
     "data": {
      "image/png": "[encoded data removed]",
      "text/plain": [
       "<Figure size 432x288 with 1 Axes>"
      ]
     },
     "metadata": {
      "needs_background": "light"
     },
     "output_type": "display_data"
    }
   ],
   "source": [
    "draw_tree_map(res['count'], res['Borough'])\n",
    "draw_hist(res['count'], res['Borough'])"
   ]
  },
  {
   "cell_type": "markdown",
   "id": "38d2e741",
   "metadata": {},
   "source": [
    "## dataset data-cityofnewyork-us.8eq5-dtjb.csv"
   ]
  },
  {
   "cell_type": "code",
   "execution_count": 276,
   "id": "d78b36f9",
   "metadata": {},
   "outputs": [
    {
     "name": "stdout",
     "output_type": "stream",
     "text": [
      "MN    25\n",
      "BK    23\n",
      "QN    13\n",
      "BX    11\n",
      "SI     4\n",
      "Name: Borough, dtype: int64\n",
      "Total locations:  5\n"
     ]
    }
   ],
   "source": [
    "# Profile dataset\n",
    "datafile = data_dir + data_list[0]\n",
    "column = data_column[0]\n",
    "df = profiling_data(datafile, column)\n",
    "df = improved_data_clean_borough(df, column)"
   ]
  },
  {
   "cell_type": "code",
   "execution_count": 277,
   "id": "44b4c43f",
   "metadata": {},
   "outputs": [
    {
     "data": {
      "image/png": "[encoded data removed]",
      "text/plain": [
       "<Figure size 432x288 with 1 Axes>"
      ]
     },
     "metadata": {
      "needs_background": "light"
     },
     "output_type": "display_data"
    },
    {
     "data": {
      "image/png": "[encoded data removed]",
      "text/plain": [
       "<Figure size 432x288 with 1 Axes>"
      ]
     },
     "metadata": {
      "needs_background": "light"
     },
     "output_type": "display_data"
    }
   ],
   "source": [
    "# Show visualisation after data clean\n",
    "res = df[[column]].value_counts().reset_index()\n",
    "res.columns = ['Borough', 'count']\n",
    "draw_tree_map(res['count'], res['Borough'])\n",
    "draw_hist(res['count'], res['Borough'])"
   ]
  },
  {
   "cell_type": "markdown",
   "id": "93d2060d",
   "metadata": {},
   "source": [
    "## data-cityofnewyork-us.emuv-tx7t.csv"
   ]
  },
  {
   "cell_type": "code",
   "execution_count": 278,
   "id": "6a8ae941",
   "metadata": {
    "scrolled": false
   },
   "outputs": [
    {
     "name": "stdout",
     "output_type": "stream",
     "text": [
      "MN    25\n",
      "BK    23\n",
      "QN    12\n",
      "BX     9\n",
      "SI     3\n",
      "Name: Borough, dtype: int64\n",
      "Total locations:  5\n"
     ]
    }
   ],
   "source": [
    "# Profile dataset\n",
    "datafile = data_dir + data_list[1]\n",
    "column = data_column[1]\n",
    "df = profiling_data(datafile, column)\n",
    "df = improved_data_clean_borough(df, column)"
   ]
  },
  {
   "cell_type": "code",
   "execution_count": 279,
   "id": "2593cada",
   "metadata": {},
   "outputs": [
    {
     "data": {
      "image/png": "[encoded data removed]",
      "text/plain": [
       "<Figure size 432x288 with 1 Axes>"
      ]
     },
     "metadata": {
      "needs_background": "light"
     },
     "output_type": "display_data"
    },
    {
     "data": {
      "image/png": "[encoded data removed]",
      "text/plain": [
       "<Figure size 432x288 with 1 Axes>"
      ]
     },
     "metadata": {
      "needs_background": "light"
     },
     "output_type": "display_data"
    }
   ],
   "source": [
    "# Show visualisation after data clean\n",
    "res = df[[column]].value_counts().reset_index()\n",
    "res.columns = ['Borough', 'count']\n",
    "draw_tree_map(res['count'], res['Borough'])\n",
    "draw_hist(res['count'], res['Borough'])"
   ]
  },
  {
   "cell_type": "markdown",
   "id": "f5989a85",
   "metadata": {},
   "source": [
    "## data-cityofnewyork-us.gt6r-wh7c.csv"
   ]
  },
  {
   "cell_type": "code",
   "execution_count": 280,
   "id": "1fb094bc",
   "metadata": {},
   "outputs": [
    {
     "name": "stdout",
     "output_type": "stream",
     "text": [
      "MN    25\n",
      "BK    23\n",
      "QN    13\n",
      "BX    10\n",
      "SI     4\n",
      "Name: Borough, dtype: int64\n",
      "Total locations:  5\n"
     ]
    }
   ],
   "source": [
    "# Profile dataset\n",
    "datafile = data_dir + data_list[2]\n",
    "column = data_column[2]\n",
    "df = profiling_data(datafile, column)\n",
    "df = improved_data_clean_borough(df, column)"
   ]
  },
  {
   "cell_type": "code",
   "execution_count": 281,
   "id": "70e6c6f5",
   "metadata": {},
   "outputs": [
    {
     "data": {
      "image/png": "[encoded data removed]",
      "text/plain": [
       "<Figure size 432x288 with 1 Axes>"
      ]
     },
     "metadata": {
      "needs_background": "light"
     },
     "output_type": "display_data"
    },
    {
     "data": {
      "image/png": "[encoded data removed]",
      "text/plain": [
       "<Figure size 432x288 with 1 Axes>"
      ]
     },
     "metadata": {
      "needs_background": "light"
     },
     "output_type": "display_data"
    }
   ],
   "source": [
    "# Show visualisation after data clean\n",
    "res = df[[column]].value_counts().reset_index()\n",
    "res.columns = ['Borough', 'count']\n",
    "draw_tree_map(res['count'], res['Borough'])\n",
    "draw_hist(res['count'], res['Borough'])"
   ]
  },
  {
   "cell_type": "markdown",
   "id": "4e5cd284",
   "metadata": {},
   "source": [
    "## data-cityofnewyork-us.un8d-rbed.csv"
   ]
  },
  {
   "cell_type": "code",
   "execution_count": 282,
   "id": "ba71b7a1",
   "metadata": {},
   "outputs": [
    {
     "name": "stdout",
     "output_type": "stream",
     "text": [
      "                    11989\n",
      "Brooklyn             3014\n",
      "Manhattan            2029\n",
      "Queens               1986\n",
      "Bronx                 759\n",
      "LIC                   265\n",
      "Staten Island         213\n",
      "Long Island City      111\n",
      "S.I.                   30\n",
      "Jackson Heights        24\n",
      "Flushing               20\n",
      "Jamaica                 9\n",
      "Bayside                 9\n",
      "Brooklyhn               9\n",
      "10014                   6\n",
      "Broorlyn                2\n",
      "Name: Borough, dtype: int64\n",
      "Total locations:  16\n"
     ]
    }
   ],
   "source": [
    "# Profile dataset\n",
    "datafile = data_dir + data_list[3]\n",
    "column = data_column[3]\n",
    "df = profiling_data(datafile, column)\n",
    "df = improved_data_clean_borough(df, column)"
   ]
  },
  {
   "cell_type": "code",
   "execution_count": 283,
   "id": "fe8d1730",
   "metadata": {},
   "outputs": [
    {
     "data": {
      "image/png": "[encoded data removed]",
      "text/plain": [
       "<Figure size 432x288 with 1 Axes>"
      ]
     },
     "metadata": {
      "needs_background": "light"
     },
     "output_type": "display_data"
    },
    {
     "data": {
      "image/png": "[encoded data removed]",
      "text/plain": [
       "<Figure size 432x288 with 1 Axes>"
      ]
     },
     "metadata": {
      "needs_background": "light"
     },
     "output_type": "display_data"
    }
   ],
   "source": [
    "# Show visualisation after data clean\n",
    "res = df[[column]].value_counts().reset_index()\n",
    "res.columns = ['Borough', 'count']\n",
    "draw_tree_map(res['count'], res['Borough'])\n",
    "draw_hist(res['count'], res['Borough'])"
   ]
  },
  {
   "cell_type": "markdown",
   "id": "5ff7be60",
   "metadata": {},
   "source": [
    "## dataset data-cityofnewyork-us.m6ad-jy3s.csv"
   ]
  },
  {
   "cell_type": "code",
   "execution_count": 284,
   "id": "1f5a9b14",
   "metadata": {},
   "outputs": [
    {
     "name": "stdout",
     "output_type": "stream",
     "text": [
      "MN    25\n",
      "BK    23\n",
      "QN    13\n",
      "BX     9\n",
      "SI     4\n",
      "Name: Borough, dtype: int64\n",
      "Total locations:  5\n"
     ]
    }
   ],
   "source": [
    "# Profile dataset\n",
    "datafile = data_dir + data_list[4]\n",
    "column = data_column[4]\n",
    "df = profiling_data(datafile, column)\n",
    "df = improved_data_clean_borough(df, column)"
   ]
  },
  {
   "cell_type": "code",
   "execution_count": 285,
   "id": "e3f19779",
   "metadata": {},
   "outputs": [
    {
     "data": {
      "image/png": "[encoded data removed]",
      "text/plain": [
       "<Figure size 432x288 with 1 Axes>"
      ]
     },
     "metadata": {
      "needs_background": "light"
     },
     "output_type": "display_data"
    },
    {
     "data": {
      "image/png": "[encoded data removed]",
      "text/plain": [
       "<Figure size 432x288 with 1 Axes>"
      ]
     },
     "metadata": {
      "needs_background": "light"
     },
     "output_type": "display_data"
    }
   ],
   "source": [
    "# Show visualisation after data clean\n",
    "res = df[[column]].value_counts().reset_index()\n",
    "res.columns = ['Borough', 'count']\n",
    "draw_tree_map(res['count'], res['Borough'])\n",
    "draw_hist(res['count'], res['Borough'])"
   ]
  },
  {
   "cell_type": "markdown",
   "id": "7cec7027",
   "metadata": {},
   "source": [
    "## dataset data-cityofnewyork-us.wye7-nyek.csv"
   ]
  },
  {
   "cell_type": "code",
   "execution_count": 286,
   "id": "221b914a",
   "metadata": {
    "scrolled": true
   },
   "outputs": [
    {
     "name": "stdout",
     "output_type": "stream",
     "text": [
      "Manhattan                                            252\n",
      "Queens                                               216\n",
      "Brooklyn                                             200\n",
      "Bronx                                                128\n",
      "Staten Island                                         75\n",
      "Bronx;#Brooklyn;#Manhattan;#Queens;#Staten Island     14\n",
      "Manhattan;#Queens                                      7\n",
      "Staten Island;#Queens;#Manhattan;#Brooklyn;#Bronx      4\n",
      "Bronx;#Manhattan                                       4\n",
      "Brooklyn;#Manhattan                                    3\n",
      "Brooklyn;#Staten Island                                3\n",
      "Queens;#Bronx                                          3\n",
      "Manhattan;#Bronx                                       3\n",
      "Bronx;#Brooklyn;#Manhattan;#Queens                     3\n",
      "Manhattan;#Brooklyn                                    3\n",
      "Bronx;#Queens                                          3\n",
      "Queens;#Brooklyn                                       3\n",
      "Brooklyn;#Bronx;#Manhattan;#Queens                     2\n",
      "Bronx;#Brooklyn;#Manhattan                             2\n",
      "Staten Island;#Brooklyn                                2\n",
      "Bronx;#Manhattan;#Queens                               2\n",
      "Queens;#Manhattan                                      2\n",
      "Brooklyn;#Queens;#Bronx                                2\n",
      "Manhattan;#Bronx;#Queens                               1\n",
      "Bronx;#Queens;#Staten Island                           1\n",
      "Queens;#Brooklyn;#Staten Island                        1\n",
      "Manhattan;#Brooklyn;#Bronx;#Queens;#Staten Island      1\n",
      "Brooklyn;#Queens                                       1\n",
      "Queens;#Manhattan;#Brooklyn;#Bronx                     1\n",
      "Bronx;#Queens;#Manhattan;#Brooklyn                     1\n",
      "Queens;#Bronx;#Brooklyn                                1\n",
      "Staten Island;#Manhattan;#Brooklyn;#Bronx;#Queens      1\n",
      "Queens;#Manhattan;#Brooklyn;#Staten Island             1\n",
      "Staten Island;#Queens;#Manhattan;#Bronx;#Brooklyn      1\n",
      "Brooklyn;#Manhattan;#Staten Island                     1\n",
      "Queens;#Staten Island;#Brooklyn                        1\n",
      "Staten Island;#Queens;#Brooklyn;#Bronx;#Manhattan      1\n",
      "Bronx;#Brooklyn;#Queens;#Staten Island;#Manhattan      1\n",
      "Bronx;#Brooklyn;#Queens;#Staten Island                 1\n",
      "Name: Borough, dtype: int64\n",
      "Total locations:  39\n"
     ]
    }
   ],
   "source": [
    "# Profile dataset\n",
    "datafile = data_dir + data_list[5]\n",
    "column = data_column[5]\n",
    "df = profiling_data(datafile, column)\n",
    "df = improved_data_clean_borough(df, column)"
   ]
  },
  {
   "cell_type": "code",
   "execution_count": 287,
   "id": "80115a0d",
   "metadata": {},
   "outputs": [
    {
     "data": {
      "image/png": "[encoded data removed]",
      "text/plain": [
       "<Figure size 432x288 with 1 Axes>"
      ]
     },
     "metadata": {
      "needs_background": "light"
     },
     "output_type": "display_data"
    },
    {
     "data": {
      "image/png": "[encoded data removed]",
      "text/plain": [
       "<Figure size 432x288 with 1 Axes>"
      ]
     },
     "metadata": {
      "needs_background": "light"
     },
     "output_type": "display_data"
    }
   ],
   "source": [
    "# Show visualisation after data clean\n",
    "res = df[[column]].value_counts().reset_index()\n",
    "res.columns = ['Borough', 'count']\n",
    "draw_tree_map(res['count'], res['Borough'])\n",
    "draw_hist(res['count'], res['Borough'])"
   ]
  },
  {
   "cell_type": "markdown",
   "id": "c6e22614",
   "metadata": {},
   "source": [
    "## dataset data-cityofnewyork-us.bty7-2jhb.csv"
   ]
  },
  {
   "cell_type": "code",
   "execution_count": 288,
   "id": "c1cb3b01",
   "metadata": {},
   "outputs": [
    {
     "name": "stdout",
     "output_type": "stream",
     "text": [
      "MANHATTAN        1008004\n",
      "BROOKLYN          532384\n",
      "QUEENS            517986\n",
      "BRONX             215035\n",
      "STATEN ISLAND     155117\n",
      "Name: BOROUGH, dtype: int64\n",
      "Total locations:  5\n"
     ]
    }
   ],
   "source": [
    "# Profile dataset\n",
    "datafile = data_dir + data_list[6]\n",
    "column = data_column[6]\n",
    "df = profiling_data(datafile, column)\n",
    "df = improved_data_clean_borough(df, column)"
   ]
  },
  {
   "cell_type": "code",
   "execution_count": 289,
   "id": "6106028f",
   "metadata": {},
   "outputs": [
    {
     "data": {
      "image/png": "[encoded data removed]",
      "text/plain": [
       "<Figure size 432x288 with 1 Axes>"
      ]
     },
     "metadata": {
      "needs_background": "light"
     },
     "output_type": "display_data"
    },
    {
     "data": {
      "image/png": "[encoded data removed]",
      "text/plain": [
       "<Figure size 432x288 with 1 Axes>"
      ]
     },
     "metadata": {
      "needs_background": "light"
     },
     "output_type": "display_data"
    }
   ],
   "source": [
    "# Show visualisation after data clean\n",
    "res = df[[column]].value_counts().reset_index()\n",
    "res.columns = ['Borough', 'count']\n",
    "draw_tree_map(res['count'], res['Borough'])\n",
    "draw_hist(res['count'], res['Borough'])"
   ]
  },
  {
   "cell_type": "markdown",
   "id": "9f3b832c",
   "metadata": {},
   "source": [
    "## dataset data-cityofnewyork-us.xrwg-eczf.csv"
   ]
  },
  {
   "cell_type": "code",
   "execution_count": 290,
   "id": "b08ae7ee",
   "metadata": {},
   "outputs": [
    {
     "name": "stdout",
     "output_type": "stream",
     "text": [
      "MANHATTAN        928\n",
      "BROOKLYN         493\n",
      "QUEENS           395\n",
      "BRONX            322\n",
      "STATEN ISLAND    179\n",
      "Bronx              2\n",
      "Name: Borough, dtype: int64\n",
      "Total locations:  6\n"
     ]
    }
   ],
   "source": [
    "# Profile dataset\n",
    "datafile = data_dir + data_list[7]\n",
    "column = data_column[7]\n",
    "df = profiling_data(datafile, column)\n",
    "df = improved_data_clean_borough(df, column)"
   ]
  },
  {
   "cell_type": "code",
   "execution_count": 291,
   "id": "100a1712",
   "metadata": {},
   "outputs": [
    {
     "data": {
      "image/png": "[encoded data removed]",
      "text/plain": [
       "<Figure size 432x288 with 1 Axes>"
      ]
     },
     "metadata": {
      "needs_background": "light"
     },
     "output_type": "display_data"
    },
    {
     "data": {
      "image/png": "[encoded data removed]",
      "text/plain": [
       "<Figure size 432x288 with 1 Axes>"
      ]
     },
     "metadata": {
      "needs_background": "light"
     },
     "output_type": "display_data"
    }
   ],
   "source": [
    "# Show visualisation after data clean\n",
    "res = df[[column]].value_counts().reset_index()\n",
    "res.columns = ['Borough', 'count']\n",
    "draw_tree_map(res['count'], res['Borough'])\n",
    "draw_hist(res['count'], res['Borough'])"
   ]
  },
  {
   "cell_type": "markdown",
   "id": "6078c953",
   "metadata": {},
   "source": [
    "## dataset data-cityofnewyork-us.3rfa-3xsf.csv"
   ]
  },
  {
   "cell_type": "code",
   "execution_count": 293,
   "id": "a07644cb",
   "metadata": {},
   "outputs": [
    {
     "name": "stdout",
     "output_type": "stream",
     "text": [
      "Unspecified      689461\n",
      "QUEENS           328154\n",
      "BROOKLYN         316593\n",
      "MANHATTAN        229076\n",
      "BRONX            142234\n",
      "STATEN ISLAND     77615\n",
      "Name: Borough, dtype: int64\n",
      "Total locations:  6\n"
     ]
    }
   ],
   "source": [
    "# Profile dataset\n",
    "datafile = data_dir + data_list[8]\n",
    "column = data_column[8]\n",
    "df = profiling_data(datafile, column)\n",
    "df = improved_data_clean_borough(df, column)"
   ]
  },
  {
   "cell_type": "code",
   "execution_count": 294,
   "id": "2fcf0534",
   "metadata": {},
   "outputs": [
    {
     "data": {
      "image/png": "[encoded data removed]",
      "text/plain": [
       "<Figure size 432x288 with 1 Axes>"
      ]
     },
     "metadata": {
      "needs_background": "light"
     },
     "output_type": "display_data"
    },
    {
     "data": {
      "image/png": "[encoded data removed]",
      "text/plain": [
       "<Figure size 432x288 with 1 Axes>"
      ]
     },
     "metadata": {
      "needs_background": "light"
     },
     "output_type": "display_data"
    }
   ],
   "source": [
    "# Show visualisation after data clean\n",
    "res = df[[column]].value_counts().reset_index()\n",
    "res.columns = ['Borough', 'count']\n",
    "draw_tree_map(res['count'], res['Borough'])\n",
    "draw_hist(res['count'], res['Borough'])"
   ]
  },
  {
   "cell_type": "markdown",
   "id": "f757b86a",
   "metadata": {},
   "source": [
    "## dataset data-cityofnewyork-us.aiww-p3af.csv"
   ]
  },
  {
   "cell_type": "code",
   "execution_count": 295,
   "id": "110a5569",
   "metadata": {},
   "outputs": [
    {
     "name": "stdout",
     "output_type": "stream",
     "text": [
      "Unspecified      706747\n",
      "QUEENS           347530\n",
      "BROOKLYN         343072\n",
      "MANHATTAN        258171\n",
      "BRONX            143763\n",
      "STATEN ISLAND     83124\n",
      "Name: Borough, dtype: int64\n",
      "Total locations:  6\n"
     ]
    }
   ],
   "source": [
    "# Profile dataset\n",
    "datafile = data_dir + data_list[9]\n",
    "column = data_column[9]\n",
    "df = profiling_data(datafile, column)\n",
    "df = improved_data_clean_borough(df, column)"
   ]
  },
  {
   "cell_type": "code",
   "execution_count": 296,
   "id": "1492befc",
   "metadata": {},
   "outputs": [
    {
     "data": {
      "image/png": "[encoded data removed]",
      "text/plain": [
       "<Figure size 432x288 with 1 Axes>"
      ]
     },
     "metadata": {
      "needs_background": "light"
     },
     "output_type": "display_data"
    },
    {
     "data": {
      "image/png": "[encoded data removed]",
      "text/plain": [
       "<Figure size 432x288 with 1 Axes>"
      ]
     },
     "metadata": {
      "needs_background": "light"
     },
     "output_type": "display_data"
    }
   ],
   "source": [
    "# Show visualisation after data clean\n",
    "res = df[[column]].value_counts().reset_index()\n",
    "res.columns = ['Borough', 'count']\n",
    "draw_tree_map(res['count'], res['Borough'])\n",
    "draw_hist(res['count'], res['Borough'])"
   ]
  },
  {
   "cell_type": "markdown",
   "id": "48c085da",
   "metadata": {},
   "source": [
    "## dataset data-cityofnewyork-us.cwy2-px8b.csv"
   ]
  },
  {
   "cell_type": "code",
   "execution_count": 297,
   "id": "b2527db9",
   "metadata": {},
   "outputs": [
    {
     "name": "stdout",
     "output_type": "stream",
     "text": [
      "QUEENS           4891\n",
      "BROOKLYN         3858\n",
      "MANHATTAN        2914\n",
      "BRONX            2033\n",
      "STATEN ISLAND     397\n",
      "Name: Borough, dtype: int64\n",
      "Total locations:  5\n"
     ]
    }
   ],
   "source": [
    "# Profile dataset\n",
    "datafile = data_dir + data_list[10]\n",
    "column = data_column[10]\n",
    "df = profiling_data(datafile, column)\n",
    "df = improved_data_clean_borough(df, column)"
   ]
  },
  {
   "cell_type": "code",
   "execution_count": 298,
   "id": "c7c20d33",
   "metadata": {},
   "outputs": [
    {
     "data": {
      "image/png": "[encoded data removed]",
      "text/plain": [
       "<Figure size 432x288 with 1 Axes>"
      ]
     },
     "metadata": {
      "needs_background": "light"
     },
     "output_type": "display_data"
    },
    {
     "data": {
      "image/png": "[encoded data removed]",
      "text/plain": [
       "<Figure size 432x288 with 1 Axes>"
      ]
     },
     "metadata": {
      "needs_background": "light"
     },
     "output_type": "display_data"
    }
   ],
   "source": [
    "# Show visualisation after data clean\n",
    "res = df[[column]].value_counts().reset_index()\n",
    "res.columns = ['Borough', 'count']\n",
    "draw_tree_map(res['count'], res['Borough'])\n",
    "draw_hist(res['count'], res['Borough'])"
   ]
  },
  {
   "cell_type": "markdown",
   "id": "e3c26801",
   "metadata": {},
   "source": [
    "## dataset data-cityofnewyork-us.hy4q-igkk.csv"
   ]
  },
  {
   "cell_type": "code",
   "execution_count": null,
   "id": "af3e0618",
   "metadata": {},
   "outputs": [
    {
     "name": "stdout",
     "output_type": "stream",
     "text": [
      "Unspecified      669438\n",
      "QUEENS           322878\n",
      "BROOKLYN         319698\n",
      "MANHATTAN        245673\n",
      "BRONX            149974\n",
      "STATEN ISLAND     81698\n",
      "Name: Borough, dtype: int64\n",
      "Total locations:  6\n"
     ]
    }
   ],
   "source": [
    "# Profile dataset\n",
    "datafile = data_dir + data_list[11]\n",
    "column = data_column[11]\n",
    "df = profiling_data(datafile, column)\n",
    "df = improved_data_clean_borough(df, column)"
   ]
  },
  {
   "cell_type": "code",
   "execution_count": null,
   "id": "1ccb4ebb",
   "metadata": {},
   "outputs": [],
   "source": [
    "# Show visualisation after data clean\n",
    "res = df[[column]].value_counts().reset_index()\n",
    "res.columns = ['Borough', 'count']\n",
    "draw_tree_map(res['count'], res['Borough'])\n",
    "draw_hist(res['count'], res['Borough'])"
   ]
  }
 ],
 "metadata": {
  "kernelspec": {
   "display_name": "Python 3 (ipykernel)",
   "language": "python",
   "name": "python3"
  },
  "language_info": {
   "codemirror_mode": {
    "name": "ipython",
    "version": 3
   },
   "file_extension": ".py",
   "mimetype": "text/x-python",
   "name": "python",
   "nbconvert_exporter": "python",
   "pygments_lexer": "ipython3",
   "version": "3.8.12"
  }
 },
 "nbformat": 4,
 "nbformat_minor": 5
}

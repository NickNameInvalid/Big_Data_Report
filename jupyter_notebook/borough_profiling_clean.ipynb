{
 "cells": [
  {
   "cell_type": "code",
   "execution_count": 24,
   "id": "e50277c2",
   "metadata": {},
   "outputs": [],
   "source": [
    "from openclean.data.load import dataset\n",
    "from openclean.pipeline import stream\n",
    "import pandas as pd\n",
    "\n",
    "data_dir = '../project_data/'\n",
    "\n",
    "data_list = [\n",
    "    'data-cityofnewyork-us.8eq5-dtjb.csv', \n",
    "    'data-cityofnewyork-us.emuv-tx7t.csv', \n",
    "    'data-cityofnewyork-us.gt6r-wh7c.csv', \n",
    "    'data-cityofnewyork-us.un8d-rbed.csv', \n",
    "    'data-cityofnewyork-us.m6ad-jy3s.csv', \n",
    "    'data-cityofnewyork-us.wye7-nyek.csv', \n",
    "    'data-cityofnewyork-us.bty7-2jhb.csv', \n",
    "    'data-cityofnewyork-us.xrwg-eczf.csv', \n",
    "    'data-cityofnewyork-us.3rfa-3xsf.csv', \n",
    "    'data-cityofnewyork-us.aiww-p3af.csv', \n",
    "    'data-cityofnewyork-us.cwy2-px8b.csv', \n",
    "    'data-cityofnewyork-us.hy4q-igkk.csv'\n",
    "]\n",
    "\n",
    "\n",
    "# Park Borough also included in igkk & p3af\n",
    "\n",
    "data_column = [\n",
    "    'Borough', \n",
    "    'Borough', \n",
    "    'Borough', \n",
    "    'Borough', \n",
    "    'Borough', \n",
    "    'Borough', \n",
    "    'BOROUGH', \n",
    "    'Borough', \n",
    "    'Borough', \n",
    "    'Borough', \n",
    "    'Borough', \n",
    "    'Borough'\n",
    "]"
   ]
  },
  {
   "cell_type": "code",
   "execution_count": 49,
   "id": "ba05bd14",
   "metadata": {},
   "outputs": [],
   "source": [
    "# our original strategy:\n",
    "# 1. padding missing value with value 'UNKNOWN'\n",
    "# 2. using uppercase for columns which could be used as reference data, such as BOROUGH\n",
    "# 3. using knn cluster to check the spelling error\n",
    "from openclean.cluster.knn import knn_clusters, knn_collision_clusters\n",
    "from openclean.function.similarity.base import SimilarityConstraint\n",
    "from openclean.function.similarity.text import LevenshteinDistance\n",
    "from openclean.function.value.threshold import GreaterThan\n",
    "\n",
    "\n",
    "def calc_effectiveness(problem_rows, cleaned_rows):\n",
    "    intersected_num = len(pd.merge(problem_rows, cleaned_rows, how='inner'));\n",
    "    precision = intersected_num / len(cleaned_rows) * 1.0\n",
    "    recall = intersected_num / len(problem_rows) * 1.0\n",
    "    return precision, recall\n",
    "\n",
    "def print_cluster(cnumber, cluster):\n",
    "    print('Cluster {} (of size {})\\n'.format(cnumber, len(cluster)))\n",
    "    for val, count in cluster.items():\n",
    "        print('{} ({})'.format(val, count))\n",
    "    print('\\nSuggested value: {}\\n\\n'.format(cluster.suggestion()))\n",
    "\n",
    "def perform_knn_cluster(ds_full, column, using_collision=False, minsize=3, t=0.7):\n",
    "    values = ds_full.select(column).distinct()\n",
    "    clusters = knn_clusters(values=values, sim=SimilarityConstraint(func=LevenshteinDistance(), pred=GreaterThan(t)), minsize=minsize) \\\n",
    "        if using_collision else knn_collision_clusters(values=values, sim=SimilarityConstraint(func=LevenshteinDistance(), pred=GreaterThan(t)), minsize=minsize)\n",
    "    print('{} clusters of size {} or greater'.format(len(clusters), minsize))\n",
    "    clusters.sort(key=lambda c: len(c), reverse=True)\n",
    "    for i, cluster in enumerate(clusters):\n",
    "        print_cluster(i + 1, cluster)\n",
    "\n",
    "def profiling_data(datafile, column):\n",
    "    ds_full = stream(datafile, encoding='utf-8')\n",
    "    df = ds_full.to_df()\n",
    "    work_loc = df[column].value_counts()\n",
    "    print(work_loc)\n",
    "    print(\"Total locations: \", len(work_loc))\n",
    "    perform_knn_cluster(ds_full, column)\n",
    "    \n",
    "def cleaning_data_original(datafile, column, cluster_results):\n",
    "    ds_full = dataset(datafile)\n",
    "    ds_full = update(ds_full, columns=column, func=str.upper)\n",
    "    ds_full = update(ds_full, columns=column, func=lambda x: 'OTHER' if is_empty(x) else x)\n",
    "    \n",
    "def save_cleaned_data(ds_full, output='result.csv'):\n",
    "    ds_full.to_csv('output')"
   ]
  },
  {
   "cell_type": "markdown",
   "id": "e9206fbf",
   "metadata": {},
   "source": [
    "## dataset data-cityofnewyork-us.8eq5-dtjb.csv"
   ]
  },
  {
   "cell_type": "code",
   "execution_count": 42,
   "id": "f1155d3a",
   "metadata": {},
   "outputs": [
    {
     "name": "stdout",
     "output_type": "stream",
     "text": [
      "MN    25\n",
      "BK    23\n",
      "QN    13\n",
      "BX    11\n",
      "SI     4\n",
      "Name: Borough, dtype: int64\n",
      "Total locations:  5\n",
      "0 clusters of size 2 or greater\n"
     ]
    }
   ],
   "source": [
    "# Profile dataset\n",
    "datafile = data_dir + data_list[0]\n",
    "column = data_column[0]\n",
    "profiling_data(datafile, column)"
   ]
  },
  {
   "cell_type": "markdown",
   "id": "b0be940f",
   "metadata": {},
   "source": [
    "## data-cityofnewyork-us.emuv-tx7t.csv"
   ]
  },
  {
   "cell_type": "code",
   "execution_count": 43,
   "id": "a5611beb",
   "metadata": {},
   "outputs": [
    {
     "name": "stdout",
     "output_type": "stream",
     "text": [
      "MN    25\n",
      "BK    23\n",
      "QN    12\n",
      "BX     9\n",
      "SI     3\n",
      "Name: Borough, dtype: int64\n",
      "Total locations:  5\n",
      "0 clusters of size 2 or greater\n"
     ]
    }
   ],
   "source": [
    "# Profile dataset\n",
    "datafile = data_dir + data_list[1]\n",
    "column = data_column[1]\n",
    "profiling_data(datafile, column)"
   ]
  },
  {
   "cell_type": "markdown",
   "id": "c40ba3fb",
   "metadata": {},
   "source": [
    "## data-cityofnewyork-us.gt6r-wh7c.csv"
   ]
  },
  {
   "cell_type": "code",
   "execution_count": 44,
   "id": "0f4de81c",
   "metadata": {},
   "outputs": [
    {
     "name": "stdout",
     "output_type": "stream",
     "text": [
      "MN    25\n",
      "BK    23\n",
      "QN    13\n",
      "BX    10\n",
      "SI     4\n",
      "Name: Borough, dtype: int64\n",
      "Total locations:  5\n",
      "0 clusters of size 2 or greater\n"
     ]
    }
   ],
   "source": [
    "# Profile dataset\n",
    "datafile = data_dir + data_list[2]\n",
    "column = data_column[2]\n",
    "profiling_data(datafile, column)"
   ]
  },
  {
   "cell_type": "markdown",
   "id": "b4fdbabd",
   "metadata": {},
   "source": [
    "## data-cityofnewyork-us.un8d-rbed.csv"
   ]
  },
  {
   "cell_type": "code",
   "execution_count": 45,
   "id": "e461ddea",
   "metadata": {},
   "outputs": [
    {
     "name": "stdout",
     "output_type": "stream",
     "text": [
      "                    11989\n",
      "Brooklyn             3014\n",
      "Manhattan            2029\n",
      "Queens               1986\n",
      "Bronx                 759\n",
      "LIC                   265\n",
      "Staten Island         213\n",
      "Long Island City      111\n",
      "S.I.                   30\n",
      "Jackson Heights        24\n",
      "Flushing               20\n",
      "Jamaica                 9\n",
      "Bayside                 9\n",
      "Brooklyhn               9\n",
      "10014                   6\n",
      "Broorlyn                2\n",
      "Name: Borough, dtype: int64\n",
      "Total locations:  16\n",
      "0 clusters of size 2 or greater\n"
     ]
    }
   ],
   "source": [
    "# Profile dataset\n",
    "datafile = data_dir + data_list[3]\n",
    "column = data_column[3]\n",
    "profiling_data(datafile, column)"
   ]
  },
  {
   "cell_type": "markdown",
   "id": "5051ca14",
   "metadata": {},
   "source": [
    "## dataset data-cityofnewyork-us.m6ad-jy3s.csv"
   ]
  },
  {
   "cell_type": "code",
   "execution_count": 11,
   "id": "a29a6899",
   "metadata": {},
   "outputs": [
    {
     "name": "stdout",
     "output_type": "stream",
     "text": [
      "MN    25\n",
      "BK    23\n",
      "QN    13\n",
      "BX     9\n",
      "SI     4\n",
      "Name: Borough, dtype: int64\n",
      "Total locations:  5\n"
     ]
    }
   ],
   "source": [
    "# Profile dataset\n",
    "datafile = data_dir + data_list[4]\n",
    "column = data_column[4]\n",
    "profiling_data(datafile, column)"
   ]
  },
  {
   "cell_type": "markdown",
   "id": "a494b8db",
   "metadata": {},
   "source": [
    "## dataset data-cityofnewyork-us.wye7-nyek.csv"
   ]
  },
  {
   "cell_type": "code",
   "execution_count": 50,
   "id": "81175251",
   "metadata": {},
   "outputs": [
    {
     "name": "stdout",
     "output_type": "stream",
     "text": [
      "Manhattan                                            252\n",
      "Queens                                               216\n",
      "Brooklyn                                             200\n",
      "Bronx                                                128\n",
      "Staten Island                                         75\n",
      "Bronx;#Brooklyn;#Manhattan;#Queens;#Staten Island     14\n",
      "Manhattan;#Queens                                      7\n",
      "Staten Island;#Queens;#Manhattan;#Brooklyn;#Bronx      4\n",
      "Bronx;#Manhattan                                       4\n",
      "Brooklyn;#Manhattan                                    3\n",
      "Brooklyn;#Staten Island                                3\n",
      "Queens;#Bronx                                          3\n",
      "Manhattan;#Bronx                                       3\n",
      "Bronx;#Brooklyn;#Manhattan;#Queens                     3\n",
      "Manhattan;#Brooklyn                                    3\n",
      "Bronx;#Queens                                          3\n",
      "Queens;#Brooklyn                                       3\n",
      "Brooklyn;#Bronx;#Manhattan;#Queens                     2\n",
      "Bronx;#Brooklyn;#Manhattan                             2\n",
      "Staten Island;#Brooklyn                                2\n",
      "Bronx;#Manhattan;#Queens                               2\n",
      "Queens;#Manhattan                                      2\n",
      "Brooklyn;#Queens;#Bronx                                2\n",
      "Manhattan;#Bronx;#Queens                               1\n",
      "Bronx;#Queens;#Staten Island                           1\n",
      "Queens;#Brooklyn;#Staten Island                        1\n",
      "Manhattan;#Brooklyn;#Bronx;#Queens;#Staten Island      1\n",
      "Brooklyn;#Queens                                       1\n",
      "Queens;#Manhattan;#Brooklyn;#Bronx                     1\n",
      "Bronx;#Queens;#Manhattan;#Brooklyn                     1\n",
      "Queens;#Bronx;#Brooklyn                                1\n",
      "Staten Island;#Manhattan;#Brooklyn;#Bronx;#Queens      1\n",
      "Queens;#Manhattan;#Brooklyn;#Staten Island             1\n",
      "Staten Island;#Queens;#Manhattan;#Bronx;#Brooklyn      1\n",
      "Brooklyn;#Manhattan;#Staten Island                     1\n",
      "Queens;#Staten Island;#Brooklyn                        1\n",
      "Staten Island;#Queens;#Brooklyn;#Bronx;#Manhattan      1\n",
      "Bronx;#Brooklyn;#Queens;#Staten Island;#Manhattan      1\n",
      "Bronx;#Brooklyn;#Queens;#Staten Island                 1\n",
      "Name: Borough, dtype: int64\n",
      "Total locations:  39\n",
      "4 clusters of size 3 or greater\n",
      "Cluster 1 (of size 5)\n",
      "\n",
      "Manhattan;#Brooklyn;#Bronx;#Queens;#Staten Island (1)\n",
      "Queens;#Manhattan;#Brooklyn;#Staten Island (1)\n",
      "Staten Island;#Manhattan;#Brooklyn;#Bronx;#Queens (1)\n",
      "Staten Island;#Queens;#Manhattan;#Bronx;#Brooklyn (1)\n",
      "Staten Island;#Queens;#Manhattan;#Brooklyn;#Bronx (4)\n",
      "\n",
      "Suggested value: Staten Island;#Queens;#Manhattan;#Brooklyn;#Bronx\n",
      "\n",
      "\n",
      "Cluster 2 (of size 4)\n",
      "\n",
      "Bronx;#Brooklyn;#Manhattan;#Queens (3)\n",
      "Brooklyn;#Bronx;#Manhattan;#Queens (2)\n",
      "Manhattan;#Queens (7)\n",
      "Bronx;#Manhattan;#Queens (2)\n",
      "\n",
      "Suggested value: Manhattan;#Queens\n",
      "\n",
      "\n",
      "Cluster 3 (of size 4)\n",
      "\n",
      "Staten Island;#Queens;#Manhattan;#Bronx;#Brooklyn (1)\n",
      "Staten Island;#Queens;#Manhattan;#Brooklyn;#Bronx (4)\n",
      "Queens;#Brooklyn;#Staten Island (1)\n",
      "Queens;#Manhattan;#Brooklyn;#Staten Island (1)\n",
      "\n",
      "Suggested value: Staten Island;#Queens;#Manhattan;#Brooklyn;#Bronx\n",
      "\n",
      "\n",
      "Cluster 4 (of size 4)\n",
      "\n",
      "Bronx;#Brooklyn;#Manhattan;#Queens;#Staten Island (14)\n",
      "Bronx;#Brooklyn;#Queens;#Staten Island;#Manhattan (1)\n",
      "Bronx;#Queens;#Staten Island (1)\n",
      "Bronx;#Brooklyn;#Queens;#Staten Island (1)\n",
      "\n",
      "Suggested value: Bronx;#Brooklyn;#Manhattan;#Queens;#Staten Island\n",
      "\n",
      "\n"
     ]
    }
   ],
   "source": [
    "# Profile dataset\n",
    "datafile = data_dir + data_list[5]\n",
    "column = data_column[5]\n",
    "profiling_data(datafile, column)"
   ]
  },
  {
   "cell_type": "markdown",
   "id": "57b257b8",
   "metadata": {},
   "source": [
    "## dataset data-cityofnewyork-us.bty7-2jhb.csv"
   ]
  },
  {
   "cell_type": "code",
   "execution_count": 51,
   "id": "4769c634",
   "metadata": {},
   "outputs": [
    {
     "name": "stdout",
     "output_type": "stream",
     "text": [
      "MANHATTAN        1008004\n",
      "BROOKLYN          532384\n",
      "QUEENS            517986\n",
      "BRONX             215035\n",
      "STATEN ISLAND     155117\n",
      "Name: BOROUGH, dtype: int64\n",
      "Total locations:  5\n",
      "0 clusters of size 3 or greater\n"
     ]
    }
   ],
   "source": [
    "# Profile dataset\n",
    "datafile = data_dir + data_list[6]\n",
    "column = data_column[6]\n",
    "profiling_data(datafile, column)"
   ]
  },
  {
   "cell_type": "markdown",
   "id": "f81c8340",
   "metadata": {},
   "source": [
    "## dataset data-cityofnewyork-us.xrwg-eczf.csv"
   ]
  },
  {
   "cell_type": "code",
   "execution_count": 52,
   "id": "f3669a19",
   "metadata": {},
   "outputs": [
    {
     "name": "stdout",
     "output_type": "stream",
     "text": [
      "MANHATTAN        928\n",
      "BROOKLYN         493\n",
      "QUEENS           395\n",
      "BRONX            322\n",
      "STATEN ISLAND    179\n",
      "Bronx              2\n",
      "Name: Borough, dtype: int64\n",
      "Total locations:  6\n",
      "0 clusters of size 3 or greater\n"
     ]
    }
   ],
   "source": [
    "# Profile dataset\n",
    "datafile = data_dir + data_list[7]\n",
    "column = data_column[7]\n",
    "profiling_data(datafile, column)"
   ]
  },
  {
   "cell_type": "markdown",
   "id": "eccbb707",
   "metadata": {},
   "source": [
    "## dataset data-cityofnewyork-us.3rfa-3xsf.csv"
   ]
  },
  {
   "cell_type": "code",
   "execution_count": 53,
   "id": "7195a82a",
   "metadata": {},
   "outputs": [
    {
     "name": "stdout",
     "output_type": "stream",
     "text": [
      "Unspecified      689461\n",
      "QUEENS           328154\n",
      "BROOKLYN         316593\n",
      "MANHATTAN        229076\n",
      "BRONX            142234\n",
      "STATEN ISLAND     77615\n",
      "Name: Borough, dtype: int64\n",
      "Total locations:  6\n",
      "0 clusters of size 3 or greater\n"
     ]
    }
   ],
   "source": [
    "# Profile dataset\n",
    "datafile = data_dir + data_list[8]\n",
    "column = data_column[8]\n",
    "profiling_data(datafile, column)"
   ]
  },
  {
   "cell_type": "markdown",
   "id": "cb7aca11",
   "metadata": {},
   "source": [
    "## dataset data-cityofnewyork-us.aiww-p3af.csv"
   ]
  },
  {
   "cell_type": "code",
   "execution_count": 54,
   "id": "bae3a646",
   "metadata": {},
   "outputs": [
    {
     "name": "stdout",
     "output_type": "stream",
     "text": [
      "Unspecified      706747\n",
      "QUEENS           347530\n",
      "BROOKLYN         343072\n",
      "MANHATTAN        258171\n",
      "BRONX            143763\n",
      "STATEN ISLAND     83124\n",
      "Name: Borough, dtype: int64\n",
      "Total locations:  6\n",
      "0 clusters of size 3 or greater\n"
     ]
    }
   ],
   "source": [
    "# Profile dataset\n",
    "datafile = data_dir + data_list[9]\n",
    "column = data_column[9]\n",
    "profiling_data(datafile, column)"
   ]
  },
  {
   "cell_type": "markdown",
   "id": "7b208f0c",
   "metadata": {},
   "source": [
    "## dataset data-cityofnewyork-us.cwy2-px8b.csv"
   ]
  },
  {
   "cell_type": "code",
   "execution_count": 55,
   "id": "c40a8d59",
   "metadata": {},
   "outputs": [
    {
     "name": "stdout",
     "output_type": "stream",
     "text": [
      "QUEENS           4891\n",
      "BROOKLYN         3858\n",
      "MANHATTAN        2914\n",
      "BRONX            2033\n",
      "STATEN ISLAND     397\n",
      "Name: Borough, dtype: int64\n",
      "Total locations:  5\n",
      "0 clusters of size 3 or greater\n"
     ]
    }
   ],
   "source": [
    "# Profile dataset\n",
    "datafile = data_dir + data_list[10]\n",
    "column = data_column[10]\n",
    "profiling_data(datafile, column)"
   ]
  },
  {
   "cell_type": "markdown",
   "id": "677b8e94",
   "metadata": {},
   "source": [
    "## dataset data-cityofnewyork-us.hy4q-igkk.csv"
   ]
  },
  {
   "cell_type": "code",
   "execution_count": 56,
   "id": "d75b1a13",
   "metadata": {},
   "outputs": [
    {
     "name": "stdout",
     "output_type": "stream",
     "text": [
      "Unspecified      669438\n",
      "QUEENS           322878\n",
      "BROOKLYN         319698\n",
      "MANHATTAN        245673\n",
      "BRONX            149974\n",
      "STATEN ISLAND     81698\n",
      "Name: Borough, dtype: int64\n",
      "Total locations:  6\n",
      "0 clusters of size 3 or greater\n"
     ]
    }
   ],
   "source": [
    "# Profile dataset\n",
    "datafile = data_dir + data_list[11]\n",
    "column = data_column[11]\n",
    "profiling_data(datafile, column)"
   ]
  },
  {
   "cell_type": "code",
   "execution_count": null,
   "id": "85f246ab",
   "metadata": {},
   "outputs": [],
   "source": []
  }
 ],
 "metadata": {
  "kernelspec": {
   "display_name": "Python 3 (ipykernel)",
   "language": "python",
   "name": "python3"
  },
  "language_info": {
   "codemirror_mode": {
    "name": "ipython",
    "version": 3
   },
   "file_extension": ".py",
   "mimetype": "text/x-python",
   "name": "python",
   "nbconvert_exporter": "python",
   "pygments_lexer": "ipython3",
   "version": "3.8.12"
  }
 },
 "nbformat": 4,
 "nbformat_minor": 5
}

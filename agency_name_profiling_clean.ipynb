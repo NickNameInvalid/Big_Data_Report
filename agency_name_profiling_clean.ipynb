{
 "cells": [
  {
   "cell_type": "code",
   "execution_count": null,
   "id": "e50277c2",
   "metadata": {},
   "outputs": [],
   "source": [
    "from openclean.data.load import dataset\n",
    "from openclean.pipeline import stream\n",
    "import pandas as pd\n",
    "\n",
    "pd.set_option('display.max_rows', None)\n",
    "\n",
    "data_dir = './project_data/'\n",
    "\n",
    "data_list = [\n",
    "   '311_Service_Requests_for_2006.csv',\n",
    "   '311_Service_Requests_for_2007.csv',\n",
    "   '311_Service_Requests_for_2009.csv',\n",
    "   '2021_Open_Data_Plan__Future_Releases.csv',\n",
    "   'Local_Law_8_of_2020___Complaints_of_Illegal_Parking_of_Vehicles_Operated_on_Behalf_of_the_City.csv',\n",
    "   'SCOUT_CORE.csv'\n",
    "\n",
    "\n",
    "]\n",
    "\n",
    "\n",
    "# Park Borough also included in igkk & p3af\n",
    "\n",
    "data_column = [\n",
    "    'Agency Name', \n",
    "    'Agency Name', \n",
    "    'Agency Name', \n",
    "    'Agency Name', \n",
    "    'Agency Name',\n",
    "    'Agency Name'\n",
    "]\n",
    "\n"
   ]
  },
  {
   "cell_type": "code",
   "execution_count": null,
   "id": "13a500a2",
   "metadata": {},
   "outputs": [],
   "source": [
    "\n",
    "from openclean.cluster.knn import knn_clusters, knn_collision_clusters\n",
    "from openclean.function.similarity.base import SimilarityConstraint\n",
    "from openclean.function.similarity.text import LevenshteinDistance\n",
    "from openclean.function.value.threshold import GreaterThan\n",
    "\n",
    "from openclean.function.value.null import is_empty\n",
    "from openclean.operator.transform.update import update\n",
    "\n",
    "\n",
    "def calc_effectiveness(problem_rows, cleaned_rows):\n",
    "    precision = intersected_num / cleaned_rows * 1.0 if cleaned_rows != 0 else 0.0\n",
    "    recall = intersected_num / problem_rows * 1.0 if problem_rows != 0 else 0.0\n",
    "    print(f\"Data cleaned with precision {precision} and recall {recall} in {intersected_num} cleaning rows\")\n",
    "    return precision, recall\n",
    "\n",
    "def print_cluster(cnumber, cluster):\n",
    "    print('Cluster {} (of size {})\\n'.format(cnumber, len(cluster)))\n",
    "    for val, count in cluster.items():\n",
    "        print('{} ({})'.format(val, count))\n",
    "    print('\\nSuggested value: {}\\n\\n'.format(cluster.suggestion()))\n",
    "\n",
    "def perform_knn_cluster(ds_full, column, using_collision=True, minsize=2, t=0.6):\n",
    "    values = ds_full.select(column).distinct()\n",
    "    clusters = knn_clusters(values=values, sim=SimilarityConstraint(func=LevenshteinDistance(), pred=GreaterThan(t)), minsize=minsize) \\\n",
    "        if using_collision else knn_collision_clusters(values=values, sim=SimilarityConstraint(func=LevenshteinDistance(), pred=GreaterThan(t)), minsize=minsize)\n",
    "    print('{} clusters of size {} or greater'.format(len(clusters), minsize))\n",
    "    clusters.sort(key=lambda c: len(c), reverse=True)\n",
    "    for i, cluster in enumerate(clusters):\n",
    "        print_cluster(i + 1, cluster)\n",
    "\n",
    "def profiling_data(datafile, column):\n",
    "    ds_full = stream(datafile, encoding='utf-8')\n",
    "    df = ds_full.to_df()\n",
    "    Agency = df[column].value_counts()\n",
    "    print(Agency)\n",
    "    print(\"Total locations: \", len(Agency))\n",
    "    return df\n",
    "    \n",
    "def cleaning_data_original(df, column):\n",
    "    rows_affected_upper = df[df[column] != df[column].str.upper()].index\n",
    "    df = update(df, columns=column, func=str.upper)\n",
    "    rows_affected_empty = df.isnull().index\n",
    "    df = update(df, columns=column, func=lambda x: 'OTHER' if is_empty(x) else x)\n",
    "    cleaned_rows = rows_affected_upper.union(rows_affected_empty)\n",
    "    return df, cleaned_rows\n",
    "    \n",
    "def save_cleaned_data(df, output='result.csv'):\n",
    "    df.to_csv('output')"
   ]
  },
  {
   "cell_type": "code",
   "execution_count": null,
   "id": "9733ca6c",
   "metadata": {},
   "outputs": [],
   "source": [
    "#load all the dataset at once then performing data cleaning to create reference data\n",
    "\n",
    "Agency_df = pd.DataFrame(columns=['Agency Name'])\n",
    "\n",
    "for i in range(len(data_list)):\n",
    "    datafile = data_dir + data_list[i]\n",
    "    print(\"Load data: \", datafile)\n",
    "    ds = dataset(datafile, encoding='utf-8')\n",
    "   \n",
    "    Agency = ds[['Agency Name']]\n",
    "    Agency_df = Agency_df.append(Agency)\n",
    "    \n",
    "print(Agency_df.value_counts())"
   ]
  },
  {
   "cell_type": "code",
   "execution_count": null,
   "id": "960b47af",
   "metadata": {},
   "outputs": [],
   "source": [
    "# Generate our reference data\n",
    "Agency_df.to_csv('../reference_data/Agency_rows_all.csv', index=None)"
   ]
  },
  {
   "cell_type": "code",
   "execution_count": null,
   "id": "e804b7e7",
   "metadata": {},
   "outputs": [],
   "source": [
    "# Load the intermediate dataset as stream format\n",
    "ds_full = stream('../reference_data/Agency_rows_all.csv', encoding='utf-8')"
   ]
  },
  {
   "cell_type": "code",
   "execution_count": null,
   "id": "9944dcb9",
   "metadata": {},
   "outputs": [],
   "source": [
    "# Knn cluster\n",
    "perform_knn_cluster(ds_full, 'Agency Name')"
   ]
  },
  {
   "cell_type": "code",
   "execution_count": null,
   "id": "806e38f2",
   "metadata": {},
   "outputs": [],
   "source": [
    "df_overall = ds_full.to_df()"
   ]
  },
  {
   "cell_type": "code",
   "execution_count": null,
   "id": "bc493bc8",
   "metadata": {},
   "outputs": [],
   "source": [
    "df_clean = update(df_overall, columns='Agency Name', func=str.upper)\n",
    "df_clean = update(df_clean, columns='Agency Name', func=lambda x: 'UNSPECIFIED' if is_empty(x) else x)\n",
    "Agency = df_clean['Agency Name'].value_counts()\n",
    "print(Agency)"
   ]
  },
  {
   "cell_type": "code",
   "execution_count": null,
   "id": "c5752489",
   "metadata": {},
   "outputs": [],
   "source": [
    "# Agency types way too many, We tried to visualize the data but the result is not ideal.\n",
    "import matplotlib.pyplot as plt\n",
    "import math\n",
    "\n",
    "plt.rc('font', size=20)\n",
    "\n",
    "\n",
    "    \n",
    "def draw_hist(numbers, groups, datapath = ''):\n",
    "    plt.barh(range(numbers.count()), [math.log(x) for x in numbers], height=97.7, color='steelblue', alpha=0.1)\n",
    "    plt.xlabel('counts (log)')\n",
    "    plt.ylabel('Agency Name')\n",
    "    plt.yticks(range(groups.count()), groups)\n",
    "    if datapath != '':\n",
    "        datapath += '/Agency Name_box.jpg'\n",
    "        plt.savefig(datapath)\n",
    "    plt.show()"
   ]
  },
  {
   "cell_type": "code",
   "execution_count": null,
   "id": "28538326",
   "metadata": {},
   "outputs": [],
   "source": [
    "res = df_clean.value_counts().reset_index()\n",
    "res.columns = ['Agency Name', 'count']\n",
    "print(res)"
   ]
  },
  {
   "cell_type": "code",
   "execution_count": null,
   "id": "8ad6b9b1",
   "metadata": {},
   "outputs": [],
   "source": [
    "draw_hist(res['count'], res['Agency Name'])"
   ]
  }
 ],
 "metadata": {
  "kernelspec": {
   "display_name": "Python 3 (ipykernel)",
   "language": "python",
   "name": "python3"
  },
  "language_info": {
   "codemirror_mode": {
    "name": "ipython",
    "version": 3
   },
   "file_extension": ".py",
   "mimetype": "text/x-python",
   "name": "python",
   "nbconvert_exporter": "python",
   "pygments_lexer": "ipython3",
   "version": "3.8.12"
  }
 },
 "nbformat": 4,
 "nbformat_minor": 5
}
